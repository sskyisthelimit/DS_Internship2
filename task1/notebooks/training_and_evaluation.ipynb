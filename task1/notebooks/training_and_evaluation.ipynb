{
 "cells": [
  {
   "cell_type": "code",
   "execution_count": null,
   "metadata": {
    "_cell_guid": "b1076dfc-b9ad-4769-8c92-a6c4dae69d19",
    "_uuid": "8f2839f25d086af736a60e9eeb907d3b93b6e0e5",
    "execution": {
     "iopub.execute_input": "2025-02-16T18:08:29.293626Z",
     "iopub.status.busy": "2025-02-16T18:08:29.293408Z",
     "iopub.status.idle": "2025-02-16T18:08:37.546095Z",
     "shell.execute_reply": "2025-02-16T18:08:37.544980Z",
     "shell.execute_reply.started": "2025-02-16T18:08:29.293604Z"
    },
    "trusted": true
   },
   "outputs": [],
   "source": [
    "!git clone https://github.com/sskyisthelimit/DS_Internship2.git\n",
    "%cd DS_Internship2/task1/\n",
    "!python3 -m pip install idx2numpy joblib"
   ]
  },
  {
   "cell_type": "code",
   "execution_count": null,
   "metadata": {
    "execution": {
     "iopub.execute_input": "2025-02-16T18:08:37.547442Z",
     "iopub.status.busy": "2025-02-16T18:08:37.547120Z",
     "iopub.status.idle": "2025-02-16T18:08:37.552945Z",
     "shell.execute_reply": "2025-02-16T18:08:37.552121Z",
     "shell.execute_reply.started": "2025-02-16T18:08:37.547408Z"
    },
    "trusted": true
   },
   "outputs": [],
   "source": [
    "%cd src"
   ]
  },
  {
   "cell_type": "code",
   "execution_count": 3,
   "metadata": {
    "execution": {
     "iopub.execute_input": "2025-02-16T18:08:37.554220Z",
     "iopub.status.busy": "2025-02-16T18:08:37.553860Z",
     "iopub.status.idle": "2025-02-16T18:08:37.569121Z",
     "shell.execute_reply": "2025-02-16T18:08:37.568441Z",
     "shell.execute_reply.started": "2025-02-16T18:08:37.554189Z"
    },
    "trusted": true
   },
   "outputs": [],
   "source": [
    "import os\n",
    "os.makedirs(\"/kaggle/working/weights\", exist_ok=True)"
   ]
  },
  {
   "cell_type": "code",
   "execution_count": 4,
   "metadata": {
    "execution": {
     "iopub.execute_input": "2025-02-16T18:08:37.570260Z",
     "iopub.status.busy": "2025-02-16T18:08:37.570034Z",
     "iopub.status.idle": "2025-02-16T18:10:57.297639Z",
     "shell.execute_reply": "2025-02-16T18:10:57.296791Z",
     "shell.execute_reply.started": "2025-02-16T18:08:37.570232Z"
    },
    "trusted": true
   },
   "outputs": [
    {
     "name": "stdout",
     "output_type": "stream",
     "text": [
      "Starting to train CNN\n",
      "Epoch 1: 100%|█| 938/938 [00:06<00:00, 140.80batch/s, accuracy=96.1, loss=0.132]\n",
      "Epoch 1, Loss: 0.1323, Accuracy: 96.07%\n",
      "Epoch 2: 100%|█| 938/938 [00:05<00:00, 162.97batch/s, accuracy=98.5, loss=0.0484\n",
      "Epoch 2, Loss: 0.0484, Accuracy: 98.46%\n",
      "Epoch 3: 100%|█| 938/938 [00:05<00:00, 164.03batch/s, accuracy=98.9, loss=0.0334\n",
      "Epoch 3, Loss: 0.0334, Accuracy: 98.94%\n",
      "Epoch 4: 100%|█| 938/938 [00:05<00:00, 163.77batch/s, accuracy=99.1, loss=0.0282\n",
      "Epoch 4, Loss: 0.0282, Accuracy: 99.09%\n",
      "Epoch 5: 100%|█| 938/938 [00:05<00:00, 164.78batch/s, accuracy=99.3, loss=0.0219\n",
      "Epoch 5, Loss: 0.0219, Accuracy: 99.28%\n",
      "Epoch 6: 100%|█| 938/938 [00:05<00:00, 166.48batch/s, accuracy=99.4, loss=0.0193\n",
      "Epoch 6, Loss: 0.0193, Accuracy: 99.43%\n",
      "Epoch 7: 100%|█| 938/938 [00:05<00:00, 165.64batch/s, accuracy=99.5, loss=0.0155\n",
      "Epoch 7, Loss: 0.0155, Accuracy: 99.50%\n",
      "Epoch 8: 100%|█| 938/938 [00:05<00:00, 163.37batch/s, accuracy=99.6, loss=0.0128\n",
      "Epoch 8, Loss: 0.0128, Accuracy: 99.56%\n",
      "Epoch 9: 100%|█| 938/938 [00:05<00:00, 166.21batch/s, accuracy=99.7, loss=0.011]\n",
      "Epoch 9, Loss: 0.0110, Accuracy: 99.65%\n",
      "Epoch 10: 100%|█| 938/938 [00:05<00:00, 165.17batch/s, accuracy=99.7, loss=0.009\n",
      "Epoch 10, Loss: 0.0093, Accuracy: 99.68%\n",
      "Starting to train FCNN\n",
      "Epoch 1: 100%|██| 938/938 [00:03<00:00, 273.82batch/s, accuracy=90.1, loss=0.35]\n",
      "Epoch 1, Loss: 0.3499, Accuracy: 90.09%\n",
      "Epoch 2: 100%|█| 938/938 [00:03<00:00, 275.39batch/s, accuracy=95.6, loss=0.149]\n",
      "Epoch 2, Loss: 0.1488, Accuracy: 95.60%\n",
      "Epoch 3: 100%|█| 938/938 [00:03<00:00, 274.71batch/s, accuracy=96.9, loss=0.102]\n",
      "Epoch 3, Loss: 0.1019, Accuracy: 96.90%\n",
      "Epoch 4: 100%|█| 938/938 [00:03<00:00, 273.33batch/s, accuracy=97.7, loss=0.0766\n",
      "Epoch 4, Loss: 0.0766, Accuracy: 97.69%\n",
      "Epoch 5: 100%|█| 938/938 [00:03<00:00, 266.13batch/s, accuracy=98.2, loss=0.0581\n",
      "Epoch 5, Loss: 0.0581, Accuracy: 98.22%\n",
      "Epoch 6: 100%|█| 938/938 [00:03<00:00, 268.21batch/s, accuracy=98.5, loss=0.0479\n",
      "Epoch 6, Loss: 0.0479, Accuracy: 98.48%\n",
      "Epoch 7: 100%|█| 938/938 [00:03<00:00, 268.01batch/s, accuracy=98.8, loss=0.0398\n",
      "Epoch 7, Loss: 0.0398, Accuracy: 98.78%\n",
      "Epoch 8: 100%|███| 938/938 [00:03<00:00, 272.75batch/s, accuracy=99, loss=0.031]\n",
      "Epoch 8, Loss: 0.0310, Accuracy: 99.03%\n",
      "Epoch 9: 100%|█| 938/938 [00:03<00:00, 266.19batch/s, accuracy=99.2, loss=0.0266\n",
      "Epoch 9, Loss: 0.0266, Accuracy: 99.17%\n",
      "Epoch 10: 100%|█| 938/938 [00:03<00:00, 270.05batch/s, accuracy=99.3, loss=0.022\n",
      "Epoch 10, Loss: 0.0221, Accuracy: 99.28%\n",
      "Starting to train RF\n"
     ]
    }
   ],
   "source": [
    "!python3 train.py --datapath ../dataset/ --device \"cuda:0\" --weights_save_dir /kaggle/working/weights/"
   ]
  },
  {
   "cell_type": "code",
   "execution_count": 5,
   "metadata": {
    "execution": {
     "iopub.execute_input": "2025-02-16T18:10:57.298907Z",
     "iopub.status.busy": "2025-02-16T18:10:57.298585Z",
     "iopub.status.idle": "2025-02-16T18:11:05.119380Z",
     "shell.execute_reply": "2025-02-16T18:11:05.118332Z",
     "shell.execute_reply.started": "2025-02-16T18:10:57.298876Z"
    },
    "trusted": true
   },
   "outputs": [
    {
     "name": "stdout",
     "output_type": "stream",
     "text": [
      "/kaggle/working/DS_Internship2/task1/src/classifiers.py:207: FutureWarning: You are using `torch.load` with `weights_only=False` (the current default value), which uses the default pickle module implicitly. It is possible to construct malicious pickle data which will execute arbitrary code during unpickling (See https://github.com/pytorch/pytorch/blob/main/SECURITY.md#untrusted-models for more details). In a future release, the default value for `weights_only` will be flipped to `True`. This limits the functions that could be executed during unpickling. Arbitrary objects will no longer be allowed to be loaded via this mode unless they are explicitly allowlisted by the user via `torch.serialization.add_safe_globals`. We recommend you start setting `weights_only=True` for any use case where you don't have full control of the loaded file. Please open an issue on GitHub for any issues related to this experimental feature.\n",
      "  self.model.load_state_dict(torch.load(filename,\n",
      "Starting evaluation of CNN\n",
      "CNN Evaluation: 100%|█████████████████████| 157/157 [00:00<00:00, 225.19batch/s]\n",
      "CNN classification report\n",
      "              precision    recall  f1-score   support\n",
      "\n",
      "           0     0.9909    0.9949    0.9929       980\n",
      "           1     0.9956    0.9903    0.9929      1135\n",
      "           2     0.9923    0.9952    0.9937      1032\n",
      "           3     0.9921    0.9901    0.9911      1010\n",
      "           4     0.9949    0.9898    0.9923       982\n",
      "           5     0.9822    0.9877    0.9849       892\n",
      "           6     0.9916    0.9854    0.9885       958\n",
      "           7     0.9837    0.9971    0.9903      1028\n",
      "           8     0.9826    0.9856    0.9841       974\n",
      "           9     0.9910    0.9812    0.9861      1009\n",
      "\n",
      "    accuracy                         0.9898     10000\n",
      "   macro avg     0.9897    0.9897    0.9897     10000\n",
      "weighted avg     0.9898    0.9898    0.9898     10000\n",
      "\n",
      "/kaggle/working/DS_Internship2/task1/src/classifiers.py:130: FutureWarning: You are using `torch.load` with `weights_only=False` (the current default value), which uses the default pickle module implicitly. It is possible to construct malicious pickle data which will execute arbitrary code during unpickling (See https://github.com/pytorch/pytorch/blob/main/SECURITY.md#untrusted-models for more details). In a future release, the default value for `weights_only` will be flipped to `True`. This limits the functions that could be executed during unpickling. Arbitrary objects will no longer be allowed to be loaded via this mode unless they are explicitly allowlisted by the user via `torch.serialization.add_safe_globals`. We recommend you start setting `weights_only=True` for any use case where you don't have full control of the loaded file. Please open an issue on GitHub for any issues related to this experimental feature.\n",
      "  self.model.load_state_dict(torch.load(filename,\n",
      "Starting evaluation of FCNN\n",
      "FCNN Evaluation: 100%|████████████████████| 157/157 [00:00<00:00, 437.64batch/s]\n",
      "FCNN classification report\n",
      "              precision    recall  f1-score   support\n",
      "\n",
      "           0     0.9729    0.9888    0.9808       980\n",
      "           1     0.9947    0.9894    0.9920      1135\n",
      "           2     0.9832    0.9651    0.9741      1032\n",
      "           3     0.9723    0.9743    0.9733      1010\n",
      "           4     0.9787    0.9827    0.9807       982\n",
      "           5     0.9709    0.9742    0.9726       892\n",
      "           6     0.9724    0.9916    0.9819       958\n",
      "           7     0.9600    0.9805    0.9702      1028\n",
      "           8     0.9882    0.9497    0.9686       974\n",
      "           9     0.9722    0.9693    0.9707      1009\n",
      "\n",
      "    accuracy                         0.9767     10000\n",
      "   macro avg     0.9766    0.9766    0.9765     10000\n",
      "weighted avg     0.9768    0.9767    0.9767     10000\n",
      "\n",
      "Starting evaluation of RF\n",
      "RF Evaluation: 100%|███████████████████████| 157/157 [00:01<00:00, 98.02batch/s]\n",
      "RF classification report\n",
      "              precision    recall  f1-score   support\n",
      "\n",
      "           0     0.9748    0.9888    0.9818       980\n",
      "           1     0.9903    0.9903    0.9903      1135\n",
      "           2     0.9588    0.9690    0.9639      1032\n",
      "           3     0.9548    0.9614    0.9581      1010\n",
      "           4     0.9775    0.9715    0.9745       982\n",
      "           5     0.9694    0.9585    0.9639       892\n",
      "           6     0.9731    0.9823    0.9777       958\n",
      "           7     0.9707    0.9660    0.9683      1028\n",
      "           8     0.9615    0.9487    0.9550       974\n",
      "           9     0.9551    0.9485    0.9518      1009\n",
      "\n",
      "    accuracy                         0.9688     10000\n",
      "   macro avg     0.9686    0.9685    0.9685     10000\n",
      "weighted avg     0.9688    0.9688    0.9688     10000\n",
      "\n"
     ]
    }
   ],
   "source": [
    "!python3 eval.py --datapath ../dataset/ --device \"cuda:0\" --weights_dir /kaggle/working/weights/"
   ]
  }
 ],
 "metadata": {
  "kaggle": {
   "accelerator": "gpu",
   "dataSources": [],
   "dockerImageVersionId": 30886,
   "isGpuEnabled": true,
   "isInternetEnabled": true,
   "language": "python",
   "sourceType": "notebook"
  },
  "kernelspec": {
   "display_name": "Python 3",
   "language": "python",
   "name": "python3"
  },
  "language_info": {
   "codemirror_mode": {
    "name": "ipython",
    "version": 3
   },
   "file_extension": ".py",
   "mimetype": "text/x-python",
   "name": "python",
   "nbconvert_exporter": "python",
   "pygments_lexer": "ipython3",
   "version": "3.10.12"
  }
 },
 "nbformat": 4,
 "nbformat_minor": 4
}
