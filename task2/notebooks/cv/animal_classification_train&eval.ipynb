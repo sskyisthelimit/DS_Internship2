{
 "cells": [
  {
   "cell_type": "code",
   "execution_count": 1,
   "id": "51f5e614",
   "metadata": {
    "execution": {
     "iopub.execute_input": "2025-02-22T10:47:57.587811Z",
     "iopub.status.busy": "2025-02-22T10:47:57.587399Z",
     "iopub.status.idle": "2025-02-22T10:48:02.351427Z",
     "shell.execute_reply": "2025-02-22T10:48:02.350055Z"
    },
    "papermill": {
     "duration": 4.771252,
     "end_time": "2025-02-22T10:48:02.354088",
     "exception": false,
     "start_time": "2025-02-22T10:47:57.582836",
     "status": "completed"
    },
    "tags": []
   },
   "outputs": [
    {
     "name": "stdout",
     "output_type": "stream",
     "text": [
      "Cloning into 'DS_Internship2'...\r\n",
      "remote: Enumerating objects: 247, done.\u001b[K\r\n",
      "remote: Counting objects: 100% (136/136), done.\u001b[K\r\n",
      "remote: Compressing objects: 100% (100/100), done.\u001b[K\r\n",
      "remote: Total 247 (delta 55), reused 110 (delta 31), pack-reused 111 (from 1)\u001b[K\r\n",
      "Receiving objects: 100% (247/247), 48.77 MiB | 29.55 MiB/s, done.\r\n",
      "Resolving deltas: 100% (89/89), done.\r\n",
      "/kaggle/working/DS_Internship2/task2/src/cv\n"
     ]
    }
   ],
   "source": [
    "!git clone https://github.com/sskyisthelimit/DS_Internship2.git\n",
    "%cd DS_Internship2/task2/src/cv/"
   ]
  },
  {
   "cell_type": "code",
   "execution_count": 2,
   "id": "23c2de12",
   "metadata": {
    "execution": {
     "iopub.execute_input": "2025-02-22T10:48:02.361646Z",
     "iopub.status.busy": "2025-02-22T10:48:02.361287Z",
     "iopub.status.idle": "2025-02-22T12:14:30.783744Z",
     "shell.execute_reply": "2025-02-22T12:14:30.782525Z"
    },
    "papermill": {
     "duration": 5188.42944,
     "end_time": "2025-02-22T12:14:30.786665",
     "exception": false,
     "start_time": "2025-02-22T10:48:02.357225",
     "status": "completed"
    },
    "tags": []
   },
   "outputs": [
    {
     "name": "stdout",
     "output_type": "stream",
     "text": [
      "Downloading: \"https://download.pytorch.org/models/efficientnet_v2_m-dc08266a.pth\" to /root/.cache/torch/hub/checkpoints/efficientnet_v2_m-dc08266a.pth\r\n",
      "100%|█████████████████████████████████████████| 208M/208M [00:00<00:00, 230MB/s]\r\n",
      "Epoch 1/25 -- Train Loss: 2.0554, Train Acc: 29.55% | Val Loss: 1.3528, Val Acc: 77.19%\r\n",
      "Epoch 2/25 -- Train Loss: 1.3280, Train Acc: 62.65% | Val Loss: 0.8903, Val Acc: 88.14%\r\n",
      "Epoch 3/25 -- Train Loss: 0.9703, Train Acc: 77.19% | Val Loss: 0.6234, Val Acc: 90.88%\r\n",
      "Epoch 4/25 -- Train Loss: 0.7651, Train Acc: 82.74% | Val Loss: 0.5149, Val Acc: 91.78%\r\n",
      "Epoch 5/25 -- Train Loss: 0.6555, Train Acc: 84.87% | Val Loss: 0.4278, Val Acc: 92.20%\r\n",
      "Epoch 6/25 -- Train Loss: 0.5607, Train Acc: 86.65% | Val Loss: 0.3561, Val Acc: 92.46%\r\n",
      "Epoch 7/25 -- Train Loss: 0.4989, Train Acc: 87.81% | Val Loss: 0.3077, Val Acc: 92.98%\r\n",
      "Epoch 8/25 -- Train Loss: 0.4525, Train Acc: 89.12% | Val Loss: 0.2843, Val Acc: 93.43%\r\n",
      "Epoch 9/25 -- Train Loss: 0.4296, Train Acc: 89.16% | Val Loss: 0.2716, Val Acc: 92.98%\r\n",
      "Epoch 10/25 -- Train Loss: 0.4115, Train Acc: 89.36% | Val Loss: 0.2436, Val Acc: 94.18%\r\n",
      "Epoch 11/25 -- Train Loss: 0.3791, Train Acc: 90.11% | Val Loss: 0.2298, Val Acc: 94.22%\r\n",
      "Epoch 12/25 -- Train Loss: 0.3708, Train Acc: 90.14% | Val Loss: 0.2254, Val Acc: 93.85%\r\n",
      "Epoch 13/25 -- Train Loss: 0.3480, Train Acc: 90.79% | Val Loss: 0.2104, Val Acc: 94.30%\r\n",
      "Epoch 14/25 -- Train Loss: 0.3517, Train Acc: 90.52% | Val Loss: 0.2074, Val Acc: 94.33%\r\n",
      "Epoch 15/25 -- Train Loss: 0.3381, Train Acc: 90.75% | Val Loss: 0.1993, Val Acc: 94.45%\r\n",
      "Epoch 16/25 -- Train Loss: 0.3305, Train Acc: 90.95% | Val Loss: 0.1891, Val Acc: 94.93%\r\n",
      "Epoch 17/25 -- Train Loss: 0.3181, Train Acc: 91.33% | Val Loss: 0.1927, Val Acc: 94.67%\r\n",
      "Epoch 18/25 -- Train Loss: 0.3118, Train Acc: 91.09% | Val Loss: 0.1850, Val Acc: 95.16%\r\n",
      "Epoch 19/25 -- Train Loss: 0.3039, Train Acc: 91.45% | Val Loss: 0.1807, Val Acc: 95.46%\r\n",
      "Epoch 20/25 -- Train Loss: 0.3058, Train Acc: 91.49% | Val Loss: 0.1793, Val Acc: 95.05%\r\n",
      "Epoch 21/25 -- Train Loss: 0.3036, Train Acc: 91.59% | Val Loss: 0.1758, Val Acc: 95.05%\r\n",
      "Epoch 22/25 -- Train Loss: 0.2868, Train Acc: 91.77% | Val Loss: 0.1738, Val Acc: 95.05%\r\n",
      "Epoch 23/25 -- Train Loss: 0.2927, Train Acc: 91.79% | Val Loss: 0.1745, Val Acc: 94.75%\r\n",
      "Epoch 24/25 -- Train Loss: 0.2796, Train Acc: 92.08% | Val Loss: 0.1728, Val Acc: 95.16%\r\n",
      "Epoch 25/25 -- Train Loss: 0.2819, Train Acc: 92.01% | Val Loss: 0.1615, Val Acc: 95.65%\r\n",
      "\r\n",
      "Validation Classification Report:\r\n",
      "              precision    recall  f1-score   support\r\n",
      "\r\n",
      "         dog       0.94      0.97      0.96       496\r\n",
      "       horse       0.94      0.94      0.94       268\r\n",
      "    elephant       0.99      0.97      0.98       146\r\n",
      "   butterfly       0.96      0.97      0.96       211\r\n",
      "     chicken       0.98      0.97      0.98       316\r\n",
      "         cat       0.98      0.92      0.95       170\r\n",
      "         cow       0.93      0.92      0.92       190\r\n",
      "       sheep       0.92      0.88      0.90       186\r\n",
      "      spider       0.98      0.99      0.98       492\r\n",
      "    squirrel       0.94      0.96      0.95       190\r\n",
      "\r\n",
      "    accuracy                           0.96      2665\r\n",
      "   macro avg       0.96      0.95      0.95      2665\r\n",
      "weighted avg       0.96      0.96      0.96      2665\r\n",
      "\r\n"
     ]
    }
   ],
   "source": [
    "!python3 -m train --dataset_dir /kaggle/input/animals10/raw-img"
   ]
  },
  {
   "cell_type": "code",
   "execution_count": 3,
   "id": "db0b6fd9",
   "metadata": {
    "execution": {
     "iopub.execute_input": "2025-02-22T12:14:30.798603Z",
     "iopub.status.busy": "2025-02-22T12:14:30.798259Z",
     "iopub.status.idle": "2025-02-22T12:15:58.049821Z",
     "shell.execute_reply": "2025-02-22T12:15:58.048289Z"
    },
    "papermill": {
     "duration": 87.260822,
     "end_time": "2025-02-22T12:15:58.052654",
     "exception": false,
     "start_time": "2025-02-22T12:14:30.791832",
     "status": "completed"
    },
    "tags": []
   },
   "outputs": [
    {
     "name": "stdout",
     "output_type": "stream",
     "text": [
      "Test Set Classification Report:\r\n",
      "              precision    recall  f1-score   support\r\n",
      "\r\n",
      "         dog       0.95      0.96      0.95       963\r\n",
      "       horse       0.95      0.92      0.94       519\r\n",
      "    elephant       0.98      0.97      0.97       285\r\n",
      "   butterfly       0.97      0.95      0.96       411\r\n",
      "     chicken       0.98      0.98      0.98       613\r\n",
      "         cat       0.98      0.96      0.97       330\r\n",
      "         cow       0.91      0.91      0.91       370\r\n",
      "       sheep       0.92      0.91      0.91       360\r\n",
      "      spider       0.97      0.99      0.98       954\r\n",
      "    squirrel       0.95      0.96      0.95       369\r\n",
      "\r\n",
      "    accuracy                           0.96      5174\r\n",
      "   macro avg       0.95      0.95      0.95      5174\r\n",
      "weighted avg       0.96      0.96      0.96      5174\r\n",
      "\r\n"
     ]
    }
   ],
   "source": [
    "!python3 -m eval --test_csv ./test_set_filepaths.csv --checkpoint ./animals_checkpoint.pth "
   ]
  },
  {
   "cell_type": "code",
   "execution_count": null,
   "id": "400f4d2a",
   "metadata": {
    "papermill": {
     "duration": 0.004689,
     "end_time": "2025-02-22T12:15:58.062564",
     "exception": false,
     "start_time": "2025-02-22T12:15:58.057875",
     "status": "completed"
    },
    "tags": []
   },
   "outputs": [],
   "source": []
  }
 ],
 "metadata": {
  "kaggle": {
   "accelerator": "gpu",
   "dataSources": [
    {
     "datasetId": 59760,
     "sourceId": 840806,
     "sourceType": "datasetVersion"
    }
   ],
   "dockerImageVersionId": 30461,
   "isGpuEnabled": true,
   "isInternetEnabled": true,
   "language": "python",
   "sourceType": "notebook"
  },
  "kernelspec": {
   "display_name": "Python 3",
   "language": "python",
   "name": "python3"
  },
  "language_info": {
   "codemirror_mode": {
    "name": "ipython",
    "version": 3
   },
   "file_extension": ".py",
   "mimetype": "text/x-python",
   "name": "python",
   "nbconvert_exporter": "python",
   "pygments_lexer": "ipython3",
   "version": "3.7.12"
  },
  "papermill": {
   "default_parameters": {},
   "duration": 5291.024522,
   "end_time": "2025-02-22T12:15:58.697793",
   "environment_variables": {},
   "exception": null,
   "input_path": "__notebook__.ipynb",
   "output_path": "__notebook__.ipynb",
   "parameters": {},
   "start_time": "2025-02-22T10:47:47.673271",
   "version": "2.4.0"
  }
 },
 "nbformat": 4,
 "nbformat_minor": 5
}
