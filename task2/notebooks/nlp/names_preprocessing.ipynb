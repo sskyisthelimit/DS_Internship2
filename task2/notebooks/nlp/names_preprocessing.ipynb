{
 "cells": [
  {
   "cell_type": "code",
   "execution_count": 132,
   "metadata": {},
   "outputs": [],
   "source": [
    "import pandas as pd"
   ]
  },
  {
   "cell_type": "code",
   "execution_count": null,
   "metadata": {},
   "outputs": [
    {
     "name": "stdout",
     "output_type": "stream",
     "text": [
      "Initial df len: 2164\n"
     ]
    },
    {
     "data": {
      "text/html": [
       "<div>\n",
       "<style scoped>\n",
       "    .dataframe tbody tr th:only-of-type {\n",
       "        vertical-align: middle;\n",
       "    }\n",
       "\n",
       "    .dataframe tbody tr th {\n",
       "        vertical-align: top;\n",
       "    }\n",
       "\n",
       "    .dataframe thead th {\n",
       "        text-align: right;\n",
       "    }\n",
       "</style>\n",
       "<table border=\"1\" class=\"dataframe\">\n",
       "  <thead>\n",
       "    <tr style=\"text-align: right;\">\n",
       "      <th></th>\n",
       "      <th>class</th>\n",
       "      <th>scientific_name</th>\n",
       "      <th>common_name</th>\n",
       "    </tr>\n",
       "  </thead>\n",
       "  <tbody>\n",
       "    <tr>\n",
       "      <th>0</th>\n",
       "      <td>Mammalia</td>\n",
       "      <td>Felis catus</td>\n",
       "      <td>Cat</td>\n",
       "    </tr>\n",
       "    <tr>\n",
       "      <th>1</th>\n",
       "      <td>Mammalia</td>\n",
       "      <td>Canis lupus familiaris</td>\n",
       "      <td>Dog</td>\n",
       "    </tr>\n",
       "    <tr>\n",
       "      <th>2</th>\n",
       "      <td>Mammalia</td>\n",
       "      <td>Equus ferus caballus</td>\n",
       "      <td>Horse</td>\n",
       "    </tr>\n",
       "    <tr>\n",
       "      <th>3</th>\n",
       "      <td>Mammalia</td>\n",
       "      <td>Bos taurus</td>\n",
       "      <td>Cow</td>\n",
       "    </tr>\n",
       "    <tr>\n",
       "      <th>4</th>\n",
       "      <td>Mammalia</td>\n",
       "      <td>Sus scrofa domesticus</td>\n",
       "      <td>Pig</td>\n",
       "    </tr>\n",
       "  </tbody>\n",
       "</table>\n",
       "</div>"
      ],
      "text/plain": [
       "      class         scientific_name common_name\n",
       "0  Mammalia             Felis catus         Cat\n",
       "1  Mammalia  Canis lupus familiaris         Dog\n",
       "2  Mammalia    Equus ferus caballus       Horse\n",
       "3  Mammalia              Bos taurus         Cow\n",
       "4  Mammalia   Sus scrofa domesticus         Pig"
      ]
     },
     "execution_count": 133,
     "metadata": {},
     "output_type": "execute_result"
    }
   ],
   "source": [
    "df = pd.read_csv(\"../../dataset/raw/animal_names.csv\")\n",
    "print(\"Initial df len:\", len(df))\n",
    "df.head()"
   ]
  },
  {
   "cell_type": "code",
   "execution_count": 134,
   "metadata": {},
   "outputs": [
    {
     "name": "stdout",
     "output_type": "stream",
     "text": [
      "143\n"
     ]
    },
    {
     "data": {
      "text/html": [
       "<div>\n",
       "<style scoped>\n",
       "    .dataframe tbody tr th:only-of-type {\n",
       "        vertical-align: middle;\n",
       "    }\n",
       "\n",
       "    .dataframe tbody tr th {\n",
       "        vertical-align: top;\n",
       "    }\n",
       "\n",
       "    .dataframe thead th {\n",
       "        text-align: right;\n",
       "    }\n",
       "</style>\n",
       "<table border=\"1\" class=\"dataframe\">\n",
       "  <thead>\n",
       "    <tr style=\"text-align: right;\">\n",
       "      <th></th>\n",
       "      <th>class</th>\n",
       "      <th>scientific_name</th>\n",
       "      <th>common_name</th>\n",
       "      <th>size</th>\n",
       "    </tr>\n",
       "  </thead>\n",
       "  <tbody>\n",
       "    <tr>\n",
       "      <th>1526</th>\n",
       "      <td>Pisces</td>\n",
       "      <td>Abramis brama</td>\n",
       "      <td>Common Bream</td>\n",
       "      <td>2</td>\n",
       "    </tr>\n",
       "    <tr>\n",
       "      <th>1529</th>\n",
       "      <td>Pisces</td>\n",
       "      <td>Acanthopagrus latus</td>\n",
       "      <td>Japanese Bream</td>\n",
       "      <td>2</td>\n",
       "    </tr>\n",
       "    <tr>\n",
       "      <th>1530</th>\n",
       "      <td>Pisces</td>\n",
       "      <td>Acipenser baerii</td>\n",
       "      <td>Siberian Sturgeon</td>\n",
       "      <td>2</td>\n",
       "    </tr>\n",
       "    <tr>\n",
       "      <th>1531</th>\n",
       "      <td>Pisces</td>\n",
       "      <td>Acipenser gueldenstaedtii</td>\n",
       "      <td>Russian Sturgeon</td>\n",
       "      <td>2</td>\n",
       "    </tr>\n",
       "    <tr>\n",
       "      <th>1532</th>\n",
       "      <td>Pisces</td>\n",
       "      <td>Acipenser ruthenus</td>\n",
       "      <td>Sterlet</td>\n",
       "      <td>2</td>\n",
       "    </tr>\n",
       "  </tbody>\n",
       "</table>\n",
       "</div>"
      ],
      "text/plain": [
       "       class            scientific_name        common_name  size\n",
       "1526  Pisces              Abramis brama       Common Bream     2\n",
       "1529  Pisces        Acanthopagrus latus     Japanese Bream     2\n",
       "1530  Pisces           Acipenser baerii  Siberian Sturgeon     2\n",
       "1531  Pisces  Acipenser gueldenstaedtii   Russian Sturgeon     2\n",
       "1532  Pisces         Acipenser ruthenus            Sterlet     2"
      ]
     },
     "execution_count": 134,
     "metadata": {},
     "output_type": "execute_result"
    }
   ],
   "source": [
    "df = df.groupby(df.columns.tolist(),as_index=False).size()\n",
    "print(len(df[df[\"size\"] > 1]))\n",
    "df[df[\"size\"] > 1].head()"
   ]
  },
  {
   "cell_type": "code",
   "execution_count": 135,
   "metadata": {},
   "outputs": [
    {
     "name": "stdout",
     "output_type": "stream",
     "text": [
      "['Amphibia' 'Annelida' 'Arachnida' 'Aves' 'Cnidaria' 'Crustacea' 'Insecta'\n",
      " 'Mammalia' 'Mollusca' 'Pisces' 'Reptilia']\n"
     ]
    }
   ],
   "source": [
    "duplicated_df = df[df[\"size\"] > 1]\n",
    "print(df[\"class\"].unique())"
   ]
  },
  {
   "cell_type": "code",
   "execution_count": 136,
   "metadata": {},
   "outputs": [],
   "source": [
    "df = df.drop_duplicates(subset=[\"common_name\"])\n",
    "df = df.drop_duplicates(subset=[\"scientific_name\"])"
   ]
  },
  {
   "cell_type": "code",
   "execution_count": 137,
   "metadata": {},
   "outputs": [
    {
     "name": "stdout",
     "output_type": "stream",
     "text": [
      "1862\n"
     ]
    }
   ],
   "source": [
    "print(len(df))"
   ]
  },
  {
   "cell_type": "code",
   "execution_count": 138,
   "metadata": {},
   "outputs": [
    {
     "data": {
      "text/html": [
       "<div>\n",
       "<style scoped>\n",
       "    .dataframe tbody tr th:only-of-type {\n",
       "        vertical-align: middle;\n",
       "    }\n",
       "\n",
       "    .dataframe tbody tr th {\n",
       "        vertical-align: top;\n",
       "    }\n",
       "\n",
       "    .dataframe thead th {\n",
       "        text-align: right;\n",
       "    }\n",
       "</style>\n",
       "<table border=\"1\" class=\"dataframe\">\n",
       "  <thead>\n",
       "    <tr style=\"text-align: right;\">\n",
       "      <th></th>\n",
       "      <th>n_samples</th>\n",
       "    </tr>\n",
       "    <tr>\n",
       "      <th>class</th>\n",
       "      <th></th>\n",
       "    </tr>\n",
       "  </thead>\n",
       "  <tbody>\n",
       "    <tr>\n",
       "      <th>Amphibia</th>\n",
       "      <td>240</td>\n",
       "    </tr>\n",
       "    <tr>\n",
       "      <th>Annelida</th>\n",
       "      <td>67</td>\n",
       "    </tr>\n",
       "    <tr>\n",
       "      <th>Arachnida</th>\n",
       "      <td>110</td>\n",
       "    </tr>\n",
       "    <tr>\n",
       "      <th>Aves</th>\n",
       "      <td>257</td>\n",
       "    </tr>\n",
       "    <tr>\n",
       "      <th>Cnidaria</th>\n",
       "      <td>96</td>\n",
       "    </tr>\n",
       "    <tr>\n",
       "      <th>Crustacea</th>\n",
       "      <td>114</td>\n",
       "    </tr>\n",
       "    <tr>\n",
       "      <th>Insecta</th>\n",
       "      <td>103</td>\n",
       "    </tr>\n",
       "    <tr>\n",
       "      <th>Mammalia</th>\n",
       "      <td>239</td>\n",
       "    </tr>\n",
       "    <tr>\n",
       "      <th>Mollusca</th>\n",
       "      <td>148</td>\n",
       "    </tr>\n",
       "    <tr>\n",
       "      <th>Pisces</th>\n",
       "      <td>238</td>\n",
       "    </tr>\n",
       "  </tbody>\n",
       "</table>\n",
       "</div>"
      ],
      "text/plain": [
       "           n_samples\n",
       "class               \n",
       "Amphibia         240\n",
       "Annelida          67\n",
       "Arachnida        110\n",
       "Aves             257\n",
       "Cnidaria          96\n",
       "Crustacea        114\n",
       "Insecta          103\n",
       "Mammalia         239\n",
       "Mollusca         148\n",
       "Pisces           238"
      ]
     },
     "execution_count": 138,
     "metadata": {},
     "output_type": "execute_result"
    }
   ],
   "source": [
    "import matplotlib.pyplot as plt\n",
    "by_class = df.groupby(by=\"class\").agg(n_samples=(\"scientific_name\", \"size\"))\n",
    "by_class.head(10)"
   ]
  },
  {
   "cell_type": "code",
   "execution_count": 139,
   "metadata": {},
   "outputs": [
    {
     "name": "stdout",
     "output_type": "stream",
     "text": [
      "Warning: Class 'Annelida' has fewer than 100 samples. Using all available samples.\n",
      "Warning: Class 'Cnidaria' has fewer than 100 samples. Using all available samples.\n",
      "class\n",
      "Amphibia     100\n",
      "Annelida      67\n",
      "Arachnida    100\n",
      "Aves         100\n",
      "Cnidaria      96\n",
      "Crustacea    100\n",
      "Insecta      100\n",
      "Mammalia     100\n",
      "Mollusca     100\n",
      "Pisces       100\n",
      "Reptilia     100\n",
      "dtype: int64\n",
      "      class             scientific_name               common_name  size\n",
      "0  Amphibia  Osteopilus septentrionalis           Cuban Tree Frog     1\n",
      "1  Amphibia         Pseudobufo subasper                False Toad     1\n",
      "2  Amphibia  Melanophryniscus stelzneri           Stelzner's Toad     1\n",
      "3  Amphibia            Pelobates fuscus          Common Spadefoot     1\n",
      "4  Amphibia                Hyla cinerea  American Green Tree Frog     1\n"
     ]
    }
   ],
   "source": [
    "classes = df['class'].unique()\n",
    "n_samples = 100\n",
    "\n",
    "sampled_df = pd.DataFrame()\n",
    "\n",
    "for cls in classes:\n",
    "    class_df = df[df['class'] == cls]\n",
    "    if len(class_df) >= n_samples:\n",
    "        sampled_class_df = class_df.sample(n=n_samples, replace=False)\n",
    "        sampled_df = pd.concat([sampled_df, sampled_class_df]) \n",
    "    else:\n",
    "        print(f\"Warning: Class '{cls}' has fewer than {n_samples} samples. Using all available samples.\")\n",
    "        sampled_df = pd.concat([sampled_df, class_df])\n",
    "\n",
    "\n",
    "sampled_df = sampled_df.reset_index(drop=True) \n",
    "\n",
    "print(sampled_df.groupby('class').size())\n",
    "print(sampled_df.head())"
   ]
  },
  {
   "cell_type": "code",
   "execution_count": null,
   "metadata": {},
   "outputs": [],
   "source": [
    "sampled_df.drop(labels=[\"size\"], axis=1, inplace=True)\n",
    "sampled_df[\"scientific_name\"] = sampled_df[\"scientific_name\"].str.lower()\n",
    "sampled_df[\"common_name\"] = sampled_df[\"common_name\"].str.lower()\n",
    "sampled_df.to_csv(\"../../dataset/raw/processed_animal_names.csv\", index=False)"
   ]
  },
  {
   "cell_type": "code",
   "execution_count": null,
   "metadata": {},
   "outputs": [],
   "source": []
  }
 ],
 "metadata": {
  "kernelspec": {
   "display_name": "virt",
   "language": "python",
   "name": "python3"
  },
  "language_info": {
   "codemirror_mode": {
    "name": "ipython",
    "version": 3
   },
   "file_extension": ".py",
   "mimetype": "text/x-python",
   "name": "python",
   "nbconvert_exporter": "python",
   "pygments_lexer": "ipython3",
   "version": "3.11.2"
  }
 },
 "nbformat": 4,
 "nbformat_minor": 2
}
