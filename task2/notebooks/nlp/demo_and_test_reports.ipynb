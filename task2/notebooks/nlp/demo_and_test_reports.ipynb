{
  "cells": [
    {
      "cell_type": "code",
      "execution_count": null,
      "metadata": {
        "colab": {
          "base_uri": "https://localhost:8080/"
        },
        "id": "e7BzgOvxyOUo",
        "outputId": "f5ce4981-ae8d-400f-b4d8-b74f0da183c0"
      },
      "outputs": [],
      "source": [
        "!git clone https://github.com/sskyisthelimit/DS_Internship2.git"
      ]
    },
    {
      "cell_type": "code",
      "execution_count": 2,
      "metadata": {
        "colab": {
          "base_uri": "https://localhost:8080/"
        },
        "id": "JFLCIRxuuKdt",
        "outputId": "101ee16e-2bbf-4c86-e9ef-ea423a16ed92"
      },
      "outputs": [
        {
          "name": "stdout",
          "output_type": "stream",
          "text": [
            "/content/DS_Internship2/task2\n"
          ]
        }
      ],
      "source": [
        "cd DS_Internship2/task2/"
      ]
    },
    {
      "cell_type": "code",
      "execution_count": null,
      "metadata": {
        "colab": {
          "base_uri": "https://localhost:8080/"
        },
        "id": "PeW410HiuLbh",
        "outputId": "3576cb0c-e802-4021-cc6d-d1ed633856b4"
      },
      "outputs": [],
      "source": [
        "!pip install -r requirements.txt"
      ]
    },
    {
      "cell_type": "code",
      "execution_count": 4,
      "metadata": {
        "colab": {
          "base_uri": "https://localhost:8080/"
        },
        "id": "74yerTKFuaYc",
        "outputId": "2b812f5a-43fa-42dd-9e0f-317e5dfcd4e4"
      },
      "outputs": [
        {
          "name": "stdout",
          "output_type": "stream",
          "text": [
            "/content/DS_Internship2/task2/src\n"
          ]
        }
      ],
      "source": [
        "cd src"
      ]
    },
    {
      "cell_type": "code",
      "execution_count": 20,
      "metadata": {
        "colab": {
          "base_uri": "https://localhost:8080/"
        },
        "id": "nEMfmVsEubk3",
        "outputId": "c27aa555-89b4-42e1-98f3-8a214e2f980b"
      },
      "outputs": [
        {
          "name": "stdout",
          "output_type": "stream",
          "text": [
            "My: O\n",
            "friend: O\n",
            "has: O\n",
            "a: O\n",
            "cane: B-ANIMAL\n",
            "corso: I-ANIMAL\n",
            ".: O\n"
          ]
        }
      ],
      "source": [
        "!python -m inference --sentence \"My friend has a cane corso.\" --device \"cuda:0\""
      ]
    },
    {
      "cell_type": "markdown",
      "metadata": {
        "id": "Tfuz6nSD2uhl"
      },
      "source": [
        "I tried to make test set as real world as possible by picking\n",
        "\n",
        "sentences from reddit r/Pets r/Animals"
      ]
    },
    {
      "cell_type": "code",
      "execution_count": 6,
      "metadata": {
        "colab": {
          "base_uri": "https://localhost:8080/"
        },
        "id": "F3XbmU_an5PC",
        "outputId": "bc84ded4-9c51-4070-e0b4-107567f04096"
      },
      "outputs": [
        {
          "name": "stdout",
          "output_type": "stream",
          "text": [
            "{\"classes\": [\"B-ANIMAL\", \"I-ANIMAL\"], \"annotations\": [[\"My dog is a chihuahua mix and she\\u2019s 16 and is declining in health.\", {\"entities\": [[3, 6, \"B-ANIMAL\"], [12, 21, \"B-ANIMAL\"]]}], [\"She\\u2019s on a chicken and rice diet because she was vomiting and it had blood in it.\", {\"entities\": [[11, 18, \"B-ANIMAL\"]]}], [\"She hasn\\u2019t thrown up since I started the chicken and rice but I look at her and all I can think about is how she\\u2019s in pain.\", {\"entities\": [[41, 48, \"B-ANIMAL\"]]}], [\"I do get angry when I see posts where the dog is actively dying and the owner is \\\"should I take him to the vet?\", {\"entities\": [[42, 45, \"B-ANIMAL\"]]}], [\"My Shih Tzu got diagnosed with kidney disease a year ago, and recently it worsened a lot.\", {\"entities\": [[3, 7, \"B-ANIMAL\"], [8, 11, \"I-ANIMAL\"]]}], [\"Pilot whales are the only animal with a higher brain-to-body mass ratio than humans, and they regularly commit mass suicide by beaching in the hundreds or thousands due to echolocation malfunctions.\", {\"entities\": [[0, 5, \"B-ANIMAL\"], [6, 12, \"I-ANIMAL\"]]}], [\"Squirrels plant thousands of trees every year by forgetting where they buried their nuts.\", {\"entities\": [[0, 9, \"B-ANIMAL\"]]}], [\"Wombats have cube-shaped poop and backward-facing pouches to keep dirt out while digging.\", {\"entities\": [[0, 7, \"B-ANIMAL\"]]}], [\"Giraffes have the same number of neck vertebrae as humans\\u2014seven.\", {\"entities\": [[0, 8, \"B-ANIMAL\"]]}], [\"Spider silk is initially liquid and hardens into a material five times stronger than steel.\", {\"entities\": [[0, 6, \"B-ANIMAL\"]]}], [\"I always get chills when I see a spider crawling on my ceiling; it's both fascinating and terrifying.\", {\"entities\": [[33, 39, \"B-ANIMAL\"]]}], [\"I once spent an entire afternoon watching a spider build its web\\u2014it was like witnessing a master artist at work.\", {\"entities\": [[44, 50, \"B-ANIMAL\"]]}], [\"I love how some Reddit threads celebrate the beauty of spiders, even if most people find them creepy.\", {\"entities\": [[55, 62, \"B-ANIMAL\"]]}], [\"The contrast between a spider's delicate web and its fierce hunting skills is something I find endlessly fascinating.\", {\"entities\": [[23, 29, \"B-ANIMAL\"]]}], [\"Despite my fear, I've grown to respect spiders after learning about their role in balancing nature.\", {\"entities\": [[39, 46, \"B-ANIMAL\"]]}], [\"Butterflies are a sign of good luck, I always feel happy when I see one.\", {\"entities\": [[0, 11, \"B-ANIMAL\"]]}], [\"I've taken a lot of photos of the butterflies I saw in Leyte, Philippines, including the Atlas Moth.\", {\"entities\": [[34, 45, \"B-ANIMAL\"], [89, 94, \"B-ANIMAL\"], [95, 99, \"I-ANIMAL\"]]}], [\"I'm trying to create a butterfly-friendly habitat in my backyard.\", {\"entities\": []}], [\"I'm fascinated by the monarch butterfly migration, it's such an incredible journey.\", {\"entities\": [[22, 29, \"B-ANIMAL\"], [30, 39, \"I-ANIMAL\"]]}], [\"Anyone know what kind of butterfly this is? It's got black and yellow stripes.\", {\"entities\": [[25, 34, \"B-ANIMAL\"]]}], [\"Monarch Butterflies are in danger. The numbers are steadily going down and the annual migration is in danger of disappearing.\", {\"entities\": [[0, 7, \"B-ANIMAL\"], [8, 19, \"I-ANIMAL\"]]}], [\"The best way to help butterflies is by giving them habitat, both host plants for caterpillars, and native local nectar plants.\", {\"entities\": [[21, 32, \"B-ANIMAL\"], [81, 93, \"B-ANIMAL\"]]}], [\"Usually by this time there are eggs and cats all over my host plants.\", {\"entities\": [[40, 44, \"B-ANIMAL\"]]}], [\"I have only seen one monarch in my yard in CT, and it\\u2019s July.\", {\"entities\": [[21, 28, \"B-ANIMAL\"]]}], [\"I put pots of dill out in my garden and when they get covered in swallowtails I transfer them into a net enclosure to keep the birds from eating them and release them when they grow up.\", {\"entities\": [[65, 77, \"B-ANIMAL\"], [127, 132, \"B-ANIMAL\"]]}], [\"I have Highland cattle.\", {\"entities\": [[7, 15, \"B-ANIMAL\"], [16, 22, \"I-ANIMAL\"]]}], [\"We have a mix of Hereford and Galloway (oreo) cows.\", {\"entities\": [[17, 25, \"B-ANIMAL\"], [30, 38, \"B-ANIMAL\"], [46, 50, \"B-ANIMAL\"]]}], [\"We have been doing sheep for 13 years and have never bothered with wool sheep.\", {\"entities\": [[19, 24, \"B-ANIMAL\"], [72, 77, \"B-ANIMAL\"]]}], [\"We do purebred Herefords, but the last couple years we\\u2019ve thrown a black Angus in with some of our heifers to get the most beautiful black baldies.\", {\"entities\": [[15, 24, \"B-ANIMAL\"], [67, 72, \"B-ANIMAL\"], [73, 78, \"I-ANIMAL\"], [99, 106, \"B-ANIMAL\"]]}], [\"Look into the Polypay breed.\", {\"entities\": [[14, 21, \"B-ANIMAL\"]]}], [\"If you want wool and meat, the Gulf Coast is awesome because it is very parasite resistant.\", {\"entities\": [[31, 35, \"B-ANIMAL\"], [36, 41, \"I-ANIMAL\"]]}], [\"We stick with St Croix, which produce twins with alarming regularity twice a year and grow into good sized sheep quickly.\", {\"entities\": [[14, 16, \"B-ANIMAL\"], [17, 22, \"I-ANIMAL\"], [107, 112, \"B-ANIMAL\"]]}], [\"I started with Icelandics but quickly found that hybrids have better growth rates and survivability.\", {\"entities\": [[15, 25, \"B-ANIMAL\"]]}], [\"I have a Rocky Mountain Horse.\", {\"entities\": [[9, 14, \"B-ANIMAL\"], [15, 23, \"I-ANIMAL\"], [24, 29, \"I-ANIMAL\"]]}], [\"I have an ex-Amish Percheron and she's wonderful! Lots of them go to rescue too.\", {\"entities\": [[19, 28, \"B-ANIMAL\"]]}], [\"My favorite ride is a retired Argentine Thoroughbred polo pony.\", {\"entities\": [[53, 57, \"B-ANIMAL\"], [58, 62, \"I-ANIMAL\"]]}], [\"Tall ones, small ones, bratty ponies, draft crosses, piebalds and tobianos and wall-eyed ones.\", {\"entities\": [[30, 36, \"B-ANIMAL\"]]}], [\"The little Eurasian red ones with feathery ears they look magical, otherworldly to me.\", {\"entities\": [[11, 19, \"B-ANIMAL\"], [20, 23, \"I-ANIMAL\"]]}], [\"I\\u2019d love to see a black squirrel one day.\", {\"entities\": [[18, 23, \"B-ANIMAL\"], [24, 32, \"I-ANIMAL\"]]}], [\"They're melanistic grey squirrels and are all over the NE US.\", {\"entities\": [[19, 23, \"B-ANIMAL\"], [24, 33, \"I-ANIMAL\"]]}], [\"I've seen large black squirrels with white noses many times over the years and refuse to believe it's been the same squirrel every time.\", {\"entities\": [[16, 21, \"B-ANIMAL\"], [22, 31, \"I-ANIMAL\"], [116, 124, \"B-ANIMAL\"]]}], [\"The African bush elephant and the Asian elephant are both listed as endangered by the IUCN.\", {\"entities\": [[4, 11, \"B-ANIMAL\"], [12, 16, \"I-ANIMAL\"], [17, 25, \"I-ANIMAL\"], [34, 39, \"B-ANIMAL\"], [40, 48, \"I-ANIMAL\"]]}], [\"The difference in genus name between African (Loxodonta) and Asian (Elephas) elephants is due to advances made in paleontology.\", {\"entities\": [[77, 86, \"B-ANIMAL\"]]}], [\"The African Bush Elephants, especially the big tuskers, could be introduced on trial to the Southwest plains.\", {\"entities\": [[4, 11, \"B-ANIMAL\"], [12, 16, \"I-ANIMAL\"], [17, 26, \"I-ANIMAL\"]]}], [\"The Asian Elephants could be introduced in the Southeastern forests to replace the extinct Mastodons that once roamed there.\", {\"entities\": [[4, 9, \"B-ANIMAL\"], [10, 19, \"I-ANIMAL\"], [91, 100, \"B-ANIMAL\"]]}], [\"Elephants eat primary producers.\", {\"entities\": [[0, 9, \"B-ANIMAL\"]]}], [\"An animal the size of an elephant would end up requiring orders of magnitudes more surface area to radiate heat.\", {\"entities\": [[25, 33, \"B-ANIMAL\"]]}], [\"Brazilian wandering spiders the one animal I truly, genuinely fear.\", {\"entities\": [[0, 9, \"B-ANIMAL\"], [10, 19, \"I-ANIMAL\"], [20, 27, \"I-ANIMAL\"]]}], [\"Brown recluse, worst spider bite you can get.\", {\"entities\": [[21, 27, \"B-ANIMAL\"]]}], [\"Trapdoor spider butts freak me out.\", {\"entities\": [[0, 8, \"B-ANIMAL\"], [9, 15, \"I-ANIMAL\"]]}], [\"True Spiders are roughly the size of mastiffs and can communicate telepathically.\", {\"entities\": [[5, 12, \"B-ANIMAL\"], [37, 45, \"B-ANIMAL\"]]}], [\"Araneid is a constructed language that is exclusively adapted for use by spiders.\", {\"entities\": [[73, 80, \"B-ANIMAL\"]]}], [\"Not necessarily a death sentence, but it depends on the type of spider and where you live!\", {\"entities\": [[64, 70, \"B-ANIMAL\"]]}], [\" Now I realize the whole time she was talking about Pallas Cats!\", {\"entities\": [[52, 58, \"B-ANIMAL\"], [59, 63, \"I-ANIMAL\"]]}], [\" Sand cats are another absolute W cat.\", {\"entities\": [[1, 5, \"B-ANIMAL\"], [6, 10, \"I-ANIMAL\"], [34, 37, \"B-ANIMAL\"]]}], [\" It's wild, the smallest feline in the world stays the size of a kitten.\", {\"entities\": [[25, 31, \"B-ANIMAL\"], [65, 71, \"B-ANIMAL\"]]}]]}\n"
          ]
        }
      ],
      "source": [
        "import json\n",
        "# loading test dataset from repo\n",
        "with open(\"/content/DS_Internship2/task2/dataset/processed/test_dataset.json\", \"r\") as f:\n",
        "  test_samples = json.load(f)\n",
        "\n",
        "print(json.dumps(test_samples))"
      ]
    },
    {
      "cell_type": "code",
      "execution_count": 7,
      "metadata": {
        "colab": {
          "base_uri": "https://localhost:8080/"
        },
        "id": "M4neYTzCxnz9",
        "outputId": "9cca2abb-93bb-45f0-8bd0-677f7882cc84"
      },
      "outputs": [
        {
          "name": "stderr",
          "output_type": "stream",
          "text": [
            "/usr/local/lib/python3.11/dist-packages/huggingface_hub/utils/_auth.py:94: UserWarning: \n",
            "The secret `HF_TOKEN` does not exist in your Colab secrets.\n",
            "To authenticate with the Hugging Face Hub, create a token in your settings tab (https://huggingface.co/settings/tokens), set it as secret in your Google Colab and restart your session.\n",
            "You will be able to reuse this secret in all of your notebooks.\n",
            "Please note that authentication is recommended but still optional to access public models or datasets.\n",
            "  warnings.warn(\n"
          ]
        }
      ],
      "source": [
        "from inference import (model, tokenizer, post_process_tokens_and_labels,\n",
        "                       predict_ner_labels, labels, label2id, id2label)"
      ]
    },
    {
      "cell_type": "code",
      "execution_count": 8,
      "metadata": {
        "id": "fFRDap_Upff9"
      },
      "outputs": [],
      "source": [
        "import re\n",
        "from utils import convert_to_bert_format\n",
        "\n",
        "device = \"cuda:0\"\n",
        "# Converting samples to same format as outputs of my model\n",
        "# code at the end of src/utils.py\n",
        "formatted_test_samples = []\n",
        "for sample in test_samples[\"annotations\"]:\n",
        "  formatted_test_samples.append(\n",
        "      convert_to_bert_format(sample[0], sample[1][\"entities\"], tokenizer))\n"
      ]
    },
    {
      "cell_type": "code",
      "execution_count": 9,
      "metadata": {
        "colab": {
          "base_uri": "https://localhost:8080/"
        },
        "id": "NCPq2ZasuI2W",
        "outputId": "15dc74e2-024e-4227-973d-ea7ecdefe57c"
      },
      "outputs": [
        {
          "name": "stdout",
          "output_type": "stream",
          "text": [
            "['My', 'dog', 'is', 'a', 'ch', '##ih', '##ua', '##hua', 'mix', 'and', 'she', '’', 's', '16', 'and', 'is', 'declining', 'in', 'health', '.']\n",
            "[0, 1, 0, 0, 1, 1, 1, 1, 0, 0, 0, 0, 0, 0, 0, 0, 0, 0, 0, 0]\n",
            "My dog is a chihuahua mix and she’s 16 and is declining in health.\n"
          ]
        }
      ],
      "source": [
        "print(formatted_test_samples[0][0])\n",
        "print(formatted_test_samples[0][1])\n",
        "print(formatted_test_samples[0][2])"
      ]
    },
    {
      "cell_type": "code",
      "execution_count": null,
      "metadata": {
        "colab": {
          "base_uri": "https://localhost:8080/",
          "height": 1000
        },
        "id": "Q-qBLsJ9zNid",
        "outputId": "241c9af9-adaa-4c68-a5f6-7fe583845d72"
      },
      "outputs": [
        {
          "name": "stdout",
          "output_type": "stream",
          "text": [
            "Problematic Sentence:\n",
            "Original:\n"
          ]
        },
        {
          "data": {
            "text/html": [
              "<span class=\"tex2jax_ignore\"><div class=\"entities\" style=\"line-height: 2.5; direction: ltr\">\n",
              "<mark class=\"entity\" style=\"background: #ddd; padding: 0.45em 0.6em; margin: 0 0.25em; line-height: 1; border-radius: 0.35em;\">\n",
              "    Pilot\n",
              "    <span style=\"font-size: 0.8em; font-weight: bold; line-height: 1; border-radius: 0.35em; vertical-align: middle; margin-left: 0.5rem\">B-ANIMAL</span>\n",
              "</mark>\n",
              " \n",
              "<mark class=\"entity\" style=\"background: #ddd; padding: 0.45em 0.6em; margin: 0 0.25em; line-height: 1; border-radius: 0.35em;\">\n",
              "    whales\n",
              "    <span style=\"font-size: 0.8em; font-weight: bold; line-height: 1; border-radius: 0.35em; vertical-align: middle; margin-left: 0.5rem\">I-ANIMAL</span>\n",
              "</mark>\n",
              " are the only animal with a higher brain - to - body mass ratio than humans , and they regularly commit mass suicide by beaching in the hundreds or thousands due to echolocation malfunctions . </div></span>"
            ],
            "text/plain": [
              "<IPython.core.display.HTML object>"
            ]
          },
          "metadata": {},
          "output_type": "display_data"
        },
        {
          "name": "stdout",
          "output_type": "stream",
          "text": [
            "Predicted:\n"
          ]
        },
        {
          "data": {
            "text/html": [
              "<span class=\"tex2jax_ignore\"><div class=\"entities\" style=\"line-height: 2.5; direction: ltr\">\n",
              "<mark class=\"entity\" style=\"background: #ddd; padding: 0.45em 0.6em; margin: 0 0.25em; line-height: 1; border-radius: 0.35em;\">\n",
              "    Pilot\n",
              "    <span style=\"font-size: 0.8em; font-weight: bold; line-height: 1; border-radius: 0.35em; vertical-align: middle; margin-left: 0.5rem\">B-ANIMAL</span>\n",
              "</mark>\n",
              " whales are the only animal with a higher brain - to - body mass ratio than humans , and they regularly commit mass suicide by beaching in the hundreds or thousands due to echolocation malfunctions . </div></span>"
            ],
            "text/plain": [
              "<IPython.core.display.HTML object>"
            ]
          },
          "metadata": {},
          "output_type": "display_data"
        },
        {
          "name": "stdout",
          "output_type": "stream",
          "text": [
            "Problematic Sentence:\n",
            "Original:\n"
          ]
        },
        {
          "data": {
            "text/html": [
              "<span class=\"tex2jax_ignore\"><div class=\"entities\" style=\"line-height: 2.5; direction: ltr\">I ' ve taken a lot of photos of the \n",
              "<mark class=\"entity\" style=\"background: #ddd; padding: 0.45em 0.6em; margin: 0 0.25em; line-height: 1; border-radius: 0.35em;\">\n",
              "    butterflies\n",
              "    <span style=\"font-size: 0.8em; font-weight: bold; line-height: 1; border-radius: 0.35em; vertical-align: middle; margin-left: 0.5rem\">B-ANIMAL</span>\n",
              "</mark>\n",
              " I saw in Leyte , Philippines , including the \n",
              "<mark class=\"entity\" style=\"background: #ddd; padding: 0.45em 0.6em; margin: 0 0.25em; line-height: 1; border-radius: 0.35em;\">\n",
              "    Atlas\n",
              "    <span style=\"font-size: 0.8em; font-weight: bold; line-height: 1; border-radius: 0.35em; vertical-align: middle; margin-left: 0.5rem\">B-ANIMAL</span>\n",
              "</mark>\n",
              " \n",
              "<mark class=\"entity\" style=\"background: #ddd; padding: 0.45em 0.6em; margin: 0 0.25em; line-height: 1; border-radius: 0.35em;\">\n",
              "    Moth\n",
              "    <span style=\"font-size: 0.8em; font-weight: bold; line-height: 1; border-radius: 0.35em; vertical-align: middle; margin-left: 0.5rem\">I-ANIMAL</span>\n",
              "</mark>\n",
              " . </div></span>"
            ],
            "text/plain": [
              "<IPython.core.display.HTML object>"
            ]
          },
          "metadata": {},
          "output_type": "display_data"
        },
        {
          "name": "stdout",
          "output_type": "stream",
          "text": [
            "Predicted:\n"
          ]
        },
        {
          "data": {
            "text/html": [
              "<span class=\"tex2jax_ignore\"><div class=\"entities\" style=\"line-height: 2.5; direction: ltr\">I ' ve taken a lot of photos of the butterflies I saw in Leyte , Philippines , including the \n",
              "<mark class=\"entity\" style=\"background: #ddd; padding: 0.45em 0.6em; margin: 0 0.25em; line-height: 1; border-radius: 0.35em;\">\n",
              "    Atlas\n",
              "    <span style=\"font-size: 0.8em; font-weight: bold; line-height: 1; border-radius: 0.35em; vertical-align: middle; margin-left: 0.5rem\">B-ANIMAL</span>\n",
              "</mark>\n",
              " \n",
              "<mark class=\"entity\" style=\"background: #ddd; padding: 0.45em 0.6em; margin: 0 0.25em; line-height: 1; border-radius: 0.35em;\">\n",
              "    Moth\n",
              "    <span style=\"font-size: 0.8em; font-weight: bold; line-height: 1; border-radius: 0.35em; vertical-align: middle; margin-left: 0.5rem\">I-ANIMAL</span>\n",
              "</mark>\n",
              " . </div></span>"
            ],
            "text/plain": [
              "<IPython.core.display.HTML object>"
            ]
          },
          "metadata": {},
          "output_type": "display_data"
        },
        {
          "name": "stdout",
          "output_type": "stream",
          "text": [
            "Problematic Sentence:\n",
            "Original:\n"
          ]
        },
        {
          "data": {
            "text/html": [
              "<span class=\"tex2jax_ignore\"><div class=\"entities\" style=\"line-height: 2.5; direction: ltr\">The best way to help \n",
              "<mark class=\"entity\" style=\"background: #ddd; padding: 0.45em 0.6em; margin: 0 0.25em; line-height: 1; border-radius: 0.35em;\">\n",
              "    butterflies\n",
              "    <span style=\"font-size: 0.8em; font-weight: bold; line-height: 1; border-radius: 0.35em; vertical-align: middle; margin-left: 0.5rem\">B-ANIMAL</span>\n",
              "</mark>\n",
              " is by giving them habitat , both host plants for \n",
              "<mark class=\"entity\" style=\"background: #ddd; padding: 0.45em 0.6em; margin: 0 0.25em; line-height: 1; border-radius: 0.35em;\">\n",
              "    caterpillars\n",
              "    <span style=\"font-size: 0.8em; font-weight: bold; line-height: 1; border-radius: 0.35em; vertical-align: middle; margin-left: 0.5rem\">B-ANIMAL</span>\n",
              "</mark>\n",
              " , and native local nectar plants . </div></span>"
            ],
            "text/plain": [
              "<IPython.core.display.HTML object>"
            ]
          },
          "metadata": {},
          "output_type": "display_data"
        },
        {
          "name": "stdout",
          "output_type": "stream",
          "text": [
            "Predicted:\n"
          ]
        },
        {
          "data": {
            "text/html": [
              "<span class=\"tex2jax_ignore\"><div class=\"entities\" style=\"line-height: 2.5; direction: ltr\">The best way to help \n",
              "<mark class=\"entity\" style=\"background: #ddd; padding: 0.45em 0.6em; margin: 0 0.25em; line-height: 1; border-radius: 0.35em;\">\n",
              "    butterflies\n",
              "    <span style=\"font-size: 0.8em; font-weight: bold; line-height: 1; border-radius: 0.35em; vertical-align: middle; margin-left: 0.5rem\">B-ANIMAL</span>\n",
              "</mark>\n",
              " is by giving them habitat , both host plants for caterpillars , and native local nectar plants . </div></span>"
            ],
            "text/plain": [
              "<IPython.core.display.HTML object>"
            ]
          },
          "metadata": {},
          "output_type": "display_data"
        },
        {
          "name": "stdout",
          "output_type": "stream",
          "text": [
            "Problematic Sentence:\n",
            "Original:\n"
          ]
        },
        {
          "data": {
            "text/html": [
              "<span class=\"tex2jax_ignore\"><div class=\"entities\" style=\"line-height: 2.5; direction: ltr\">I put pots of dill out in my garden and when they get covered in \n",
              "<mark class=\"entity\" style=\"background: #ddd; padding: 0.45em 0.6em; margin: 0 0.25em; line-height: 1; border-radius: 0.35em;\">\n",
              "    swallowtails\n",
              "    <span style=\"font-size: 0.8em; font-weight: bold; line-height: 1; border-radius: 0.35em; vertical-align: middle; margin-left: 0.5rem\">B-ANIMAL</span>\n",
              "</mark>\n",
              " I transfer them into a net enclosure to keep the \n",
              "<mark class=\"entity\" style=\"background: #ddd; padding: 0.45em 0.6em; margin: 0 0.25em; line-height: 1; border-radius: 0.35em;\">\n",
              "    birds\n",
              "    <span style=\"font-size: 0.8em; font-weight: bold; line-height: 1; border-radius: 0.35em; vertical-align: middle; margin-left: 0.5rem\">B-ANIMAL</span>\n",
              "</mark>\n",
              " from eating them and release them when they grow up . </div></span>"
            ],
            "text/plain": [
              "<IPython.core.display.HTML object>"
            ]
          },
          "metadata": {},
          "output_type": "display_data"
        },
        {
          "name": "stdout",
          "output_type": "stream",
          "text": [
            "Predicted:\n"
          ]
        },
        {
          "data": {
            "text/html": [
              "<span class=\"tex2jax_ignore\"><div class=\"entities\" style=\"line-height: 2.5; direction: ltr\">I put pots of dill out in my garden and when they get covered in \n",
              "<mark class=\"entity\" style=\"background: #ddd; padding: 0.45em 0.6em; margin: 0 0.25em; line-height: 1; border-radius: 0.35em;\">\n",
              "    swallowtails\n",
              "    <span style=\"font-size: 0.8em; font-weight: bold; line-height: 1; border-radius: 0.35em; vertical-align: middle; margin-left: 0.5rem\">B-ANIMAL</span>\n",
              "</mark>\n",
              " I transfer them into a net enclosure to keep the birds from eating them and release them when they grow up . </div></span>"
            ],
            "text/plain": [
              "<IPython.core.display.HTML object>"
            ]
          },
          "metadata": {},
          "output_type": "display_data"
        },
        {
          "name": "stdout",
          "output_type": "stream",
          "text": [
            "Problematic Sentence:\n",
            "Original:\n"
          ]
        },
        {
          "data": {
            "text/html": [
              "<span class=\"tex2jax_ignore\"><div class=\"entities\" style=\"line-height: 2.5; direction: ltr\">I have \n",
              "<mark class=\"entity\" style=\"background: #ddd; padding: 0.45em 0.6em; margin: 0 0.25em; line-height: 1; border-radius: 0.35em;\">\n",
              "    Highland\n",
              "    <span style=\"font-size: 0.8em; font-weight: bold; line-height: 1; border-radius: 0.35em; vertical-align: middle; margin-left: 0.5rem\">B-ANIMAL</span>\n",
              "</mark>\n",
              " \n",
              "<mark class=\"entity\" style=\"background: #ddd; padding: 0.45em 0.6em; margin: 0 0.25em; line-height: 1; border-radius: 0.35em;\">\n",
              "    cattle\n",
              "    <span style=\"font-size: 0.8em; font-weight: bold; line-height: 1; border-radius: 0.35em; vertical-align: middle; margin-left: 0.5rem\">I-ANIMAL</span>\n",
              "</mark>\n",
              " . </div></span>"
            ],
            "text/plain": [
              "<IPython.core.display.HTML object>"
            ]
          },
          "metadata": {},
          "output_type": "display_data"
        },
        {
          "name": "stdout",
          "output_type": "stream",
          "text": [
            "Predicted:\n"
          ]
        },
        {
          "data": {
            "text/html": [
              "<span class=\"tex2jax_ignore\"><div class=\"entities\" style=\"line-height: 2.5; direction: ltr\">I have \n",
              "<mark class=\"entity\" style=\"background: #ddd; padding: 0.45em 0.6em; margin: 0 0.25em; line-height: 1; border-radius: 0.35em;\">\n",
              "    Highland\n",
              "    <span style=\"font-size: 0.8em; font-weight: bold; line-height: 1; border-radius: 0.35em; vertical-align: middle; margin-left: 0.5rem\">B-ANIMAL</span>\n",
              "</mark>\n",
              " cattle . </div></span>"
            ],
            "text/plain": [
              "<IPython.core.display.HTML object>"
            ]
          },
          "metadata": {},
          "output_type": "display_data"
        },
        {
          "name": "stdout",
          "output_type": "stream",
          "text": [
            "Problematic Sentence:\n",
            "Original:\n"
          ]
        },
        {
          "data": {
            "text/html": [
              "<span class=\"tex2jax_ignore\"><div class=\"entities\" style=\"line-height: 2.5; direction: ltr\">We have a mix of \n",
              "<mark class=\"entity\" style=\"background: #ddd; padding: 0.45em 0.6em; margin: 0 0.25em; line-height: 1; border-radius: 0.35em;\">\n",
              "    Hereford\n",
              "    <span style=\"font-size: 0.8em; font-weight: bold; line-height: 1; border-radius: 0.35em; vertical-align: middle; margin-left: 0.5rem\">B-ANIMAL</span>\n",
              "</mark>\n",
              " and \n",
              "<mark class=\"entity\" style=\"background: #ddd; padding: 0.45em 0.6em; margin: 0 0.25em; line-height: 1; border-radius: 0.35em;\">\n",
              "    Galloway\n",
              "    <span style=\"font-size: 0.8em; font-weight: bold; line-height: 1; border-radius: 0.35em; vertical-align: middle; margin-left: 0.5rem\">B-ANIMAL</span>\n",
              "</mark>\n",
              " ( oreo ) \n",
              "<mark class=\"entity\" style=\"background: #ddd; padding: 0.45em 0.6em; margin: 0 0.25em; line-height: 1; border-radius: 0.35em;\">\n",
              "    cows\n",
              "    <span style=\"font-size: 0.8em; font-weight: bold; line-height: 1; border-radius: 0.35em; vertical-align: middle; margin-left: 0.5rem\">B-ANIMAL</span>\n",
              "</mark>\n",
              " . </div></span>"
            ],
            "text/plain": [
              "<IPython.core.display.HTML object>"
            ]
          },
          "metadata": {},
          "output_type": "display_data"
        },
        {
          "name": "stdout",
          "output_type": "stream",
          "text": [
            "Predicted:\n"
          ]
        },
        {
          "data": {
            "text/html": [
              "<span class=\"tex2jax_ignore\"><div class=\"entities\" style=\"line-height: 2.5; direction: ltr\">We have a mix of \n",
              "<mark class=\"entity\" style=\"background: #ddd; padding: 0.45em 0.6em; margin: 0 0.25em; line-height: 1; border-radius: 0.35em;\">\n",
              "    Hereford\n",
              "    <span style=\"font-size: 0.8em; font-weight: bold; line-height: 1; border-radius: 0.35em; vertical-align: middle; margin-left: 0.5rem\">B-ANIMAL</span>\n",
              "</mark>\n",
              " and \n",
              "<mark class=\"entity\" style=\"background: #ddd; padding: 0.45em 0.6em; margin: 0 0.25em; line-height: 1; border-radius: 0.35em;\">\n",
              "    Galloway\n",
              "    <span style=\"font-size: 0.8em; font-weight: bold; line-height: 1; border-radius: 0.35em; vertical-align: middle; margin-left: 0.5rem\">B-ANIMAL</span>\n",
              "</mark>\n",
              " ( oreo ) cows . </div></span>"
            ],
            "text/plain": [
              "<IPython.core.display.HTML object>"
            ]
          },
          "metadata": {},
          "output_type": "display_data"
        },
        {
          "name": "stdout",
          "output_type": "stream",
          "text": [
            "Problematic Sentence:\n",
            "Original:\n"
          ]
        },
        {
          "data": {
            "text/html": [
              "<span class=\"tex2jax_ignore\"><div class=\"entities\" style=\"line-height: 2.5; direction: ltr\">We have been doing \n",
              "<mark class=\"entity\" style=\"background: #ddd; padding: 0.45em 0.6em; margin: 0 0.25em; line-height: 1; border-radius: 0.35em;\">\n",
              "    sheep\n",
              "    <span style=\"font-size: 0.8em; font-weight: bold; line-height: 1; border-radius: 0.35em; vertical-align: middle; margin-left: 0.5rem\">B-ANIMAL</span>\n",
              "</mark>\n",
              " for 13 years and have never bothered with wool \n",
              "<mark class=\"entity\" style=\"background: #ddd; padding: 0.45em 0.6em; margin: 0 0.25em; line-height: 1; border-radius: 0.35em;\">\n",
              "    sheep\n",
              "    <span style=\"font-size: 0.8em; font-weight: bold; line-height: 1; border-radius: 0.35em; vertical-align: middle; margin-left: 0.5rem\">B-ANIMAL</span>\n",
              "</mark>\n",
              " . </div></span>"
            ],
            "text/plain": [
              "<IPython.core.display.HTML object>"
            ]
          },
          "metadata": {},
          "output_type": "display_data"
        },
        {
          "name": "stdout",
          "output_type": "stream",
          "text": [
            "Predicted:\n"
          ]
        },
        {
          "data": {
            "text/html": [
              "<span class=\"tex2jax_ignore\"><div class=\"entities\" style=\"line-height: 2.5; direction: ltr\">We have been doing \n",
              "<mark class=\"entity\" style=\"background: #ddd; padding: 0.45em 0.6em; margin: 0 0.25em; line-height: 1; border-radius: 0.35em;\">\n",
              "    sheep\n",
              "    <span style=\"font-size: 0.8em; font-weight: bold; line-height: 1; border-radius: 0.35em; vertical-align: middle; margin-left: 0.5rem\">B-ANIMAL</span>\n",
              "</mark>\n",
              " for 13 years and have never bothered with wool sheep . </div></span>"
            ],
            "text/plain": [
              "<IPython.core.display.HTML object>"
            ]
          },
          "metadata": {},
          "output_type": "display_data"
        },
        {
          "name": "stdout",
          "output_type": "stream",
          "text": [
            "Problematic Sentence:\n",
            "Original:\n"
          ]
        },
        {
          "data": {
            "text/html": [
              "<span class=\"tex2jax_ignore\"><div class=\"entities\" style=\"line-height: 2.5; direction: ltr\">We do purebred \n",
              "<mark class=\"entity\" style=\"background: #ddd; padding: 0.45em 0.6em; margin: 0 0.25em; line-height: 1; border-radius: 0.35em;\">\n",
              "    Herefords\n",
              "    <span style=\"font-size: 0.8em; font-weight: bold; line-height: 1; border-radius: 0.35em; vertical-align: middle; margin-left: 0.5rem\">B-ANIMAL</span>\n",
              "</mark>\n",
              " , but the last couple years we ’ ve thrown a \n",
              "<mark class=\"entity\" style=\"background: #ddd; padding: 0.45em 0.6em; margin: 0 0.25em; line-height: 1; border-radius: 0.35em;\">\n",
              "    black\n",
              "    <span style=\"font-size: 0.8em; font-weight: bold; line-height: 1; border-radius: 0.35em; vertical-align: middle; margin-left: 0.5rem\">B-ANIMAL</span>\n",
              "</mark>\n",
              " \n",
              "<mark class=\"entity\" style=\"background: #ddd; padding: 0.45em 0.6em; margin: 0 0.25em; line-height: 1; border-radius: 0.35em;\">\n",
              "    Angus\n",
              "    <span style=\"font-size: 0.8em; font-weight: bold; line-height: 1; border-radius: 0.35em; vertical-align: middle; margin-left: 0.5rem\">I-ANIMAL</span>\n",
              "</mark>\n",
              " in with some of our \n",
              "<mark class=\"entity\" style=\"background: #ddd; padding: 0.45em 0.6em; margin: 0 0.25em; line-height: 1; border-radius: 0.35em;\">\n",
              "    heifers\n",
              "    <span style=\"font-size: 0.8em; font-weight: bold; line-height: 1; border-radius: 0.35em; vertical-align: middle; margin-left: 0.5rem\">B-ANIMAL</span>\n",
              "</mark>\n",
              " to get the most beautiful black baldies . </div></span>"
            ],
            "text/plain": [
              "<IPython.core.display.HTML object>"
            ]
          },
          "metadata": {},
          "output_type": "display_data"
        },
        {
          "name": "stdout",
          "output_type": "stream",
          "text": [
            "Predicted:\n"
          ]
        },
        {
          "data": {
            "text/html": [
              "<span class=\"tex2jax_ignore\"><div class=\"entities\" style=\"line-height: 2.5; direction: ltr\">We do purebred \n",
              "<mark class=\"entity\" style=\"background: #ddd; padding: 0.45em 0.6em; margin: 0 0.25em; line-height: 1; border-radius: 0.35em;\">\n",
              "    Herefords\n",
              "    <span style=\"font-size: 0.8em; font-weight: bold; line-height: 1; border-radius: 0.35em; vertical-align: middle; margin-left: 0.5rem\">B-ANIMAL</span>\n",
              "</mark>\n",
              " , but the last couple years we ’ ve thrown a black Angus in with some of our heifers to get the most beautiful black baldies . </div></span>"
            ],
            "text/plain": [
              "<IPython.core.display.HTML object>"
            ]
          },
          "metadata": {},
          "output_type": "display_data"
        },
        {
          "name": "stdout",
          "output_type": "stream",
          "text": [
            "Problematic Sentence:\n",
            "Original:\n"
          ]
        },
        {
          "data": {
            "text/html": [
              "<span class=\"tex2jax_ignore\"><div class=\"entities\" style=\"line-height: 2.5; direction: ltr\">If you want wool and meat , the \n",
              "<mark class=\"entity\" style=\"background: #ddd; padding: 0.45em 0.6em; margin: 0 0.25em; line-height: 1; border-radius: 0.35em;\">\n",
              "    Gulf\n",
              "    <span style=\"font-size: 0.8em; font-weight: bold; line-height: 1; border-radius: 0.35em; vertical-align: middle; margin-left: 0.5rem\">B-ANIMAL</span>\n",
              "</mark>\n",
              " \n",
              "<mark class=\"entity\" style=\"background: #ddd; padding: 0.45em 0.6em; margin: 0 0.25em; line-height: 1; border-radius: 0.35em;\">\n",
              "    Coast\n",
              "    <span style=\"font-size: 0.8em; font-weight: bold; line-height: 1; border-radius: 0.35em; vertical-align: middle; margin-left: 0.5rem\">I-ANIMAL</span>\n",
              "</mark>\n",
              " is awesome because it is very parasite resistant . </div></span>"
            ],
            "text/plain": [
              "<IPython.core.display.HTML object>"
            ]
          },
          "metadata": {},
          "output_type": "display_data"
        },
        {
          "name": "stdout",
          "output_type": "stream",
          "text": [
            "Predicted:\n"
          ]
        },
        {
          "name": "stderr",
          "output_type": "stream",
          "text": [
            "/usr/local/lib/python3.11/dist-packages/spacy/displacy/__init__.py:213: UserWarning: [W006] No entities to visualize found in Doc object. If this is surprising to you, make sure the Doc was processed using a model that supports named entity recognition, and check the `doc.ents` property manually if necessary.\n",
            "  warnings.warn(Warnings.W006)\n"
          ]
        },
        {
          "data": {
            "text/html": [
              "<span class=\"tex2jax_ignore\"><div class=\"entities\" style=\"line-height: 2.5; direction: ltr\">If you want wool and meat , the Gulf Coast is awesome because it is very parasite resistant . </div></span>"
            ],
            "text/plain": [
              "<IPython.core.display.HTML object>"
            ]
          },
          "metadata": {},
          "output_type": "display_data"
        },
        {
          "name": "stdout",
          "output_type": "stream",
          "text": [
            "Problematic Sentence:\n",
            "Original:\n"
          ]
        },
        {
          "data": {
            "text/html": [
              "<span class=\"tex2jax_ignore\"><div class=\"entities\" style=\"line-height: 2.5; direction: ltr\">We stick with \n",
              "<mark class=\"entity\" style=\"background: #ddd; padding: 0.45em 0.6em; margin: 0 0.25em; line-height: 1; border-radius: 0.35em;\">\n",
              "    St\n",
              "    <span style=\"font-size: 0.8em; font-weight: bold; line-height: 1; border-radius: 0.35em; vertical-align: middle; margin-left: 0.5rem\">B-ANIMAL</span>\n",
              "</mark>\n",
              " \n",
              "<mark class=\"entity\" style=\"background: #ddd; padding: 0.45em 0.6em; margin: 0 0.25em; line-height: 1; border-radius: 0.35em;\">\n",
              "    Croix\n",
              "    <span style=\"font-size: 0.8em; font-weight: bold; line-height: 1; border-radius: 0.35em; vertical-align: middle; margin-left: 0.5rem\">I-ANIMAL</span>\n",
              "</mark>\n",
              " , which produce twins with alarming regularity twice a year and grow into good sized \n",
              "<mark class=\"entity\" style=\"background: #ddd; padding: 0.45em 0.6em; margin: 0 0.25em; line-height: 1; border-radius: 0.35em;\">\n",
              "    sheep\n",
              "    <span style=\"font-size: 0.8em; font-weight: bold; line-height: 1; border-radius: 0.35em; vertical-align: middle; margin-left: 0.5rem\">B-ANIMAL</span>\n",
              "</mark>\n",
              " quickly . </div></span>"
            ],
            "text/plain": [
              "<IPython.core.display.HTML object>"
            ]
          },
          "metadata": {},
          "output_type": "display_data"
        },
        {
          "name": "stdout",
          "output_type": "stream",
          "text": [
            "Predicted:\n"
          ]
        },
        {
          "data": {
            "text/html": [
              "<span class=\"tex2jax_ignore\"><div class=\"entities\" style=\"line-height: 2.5; direction: ltr\">We stick with St Croix , which produce twins with alarming regularity twice a year and grow into good sized \n",
              "<mark class=\"entity\" style=\"background: #ddd; padding: 0.45em 0.6em; margin: 0 0.25em; line-height: 1; border-radius: 0.35em;\">\n",
              "    sheep\n",
              "    <span style=\"font-size: 0.8em; font-weight: bold; line-height: 1; border-radius: 0.35em; vertical-align: middle; margin-left: 0.5rem\">B-ANIMAL</span>\n",
              "</mark>\n",
              " quickly . </div></span>"
            ],
            "text/plain": [
              "<IPython.core.display.HTML object>"
            ]
          },
          "metadata": {},
          "output_type": "display_data"
        },
        {
          "name": "stdout",
          "output_type": "stream",
          "text": [
            "Problematic Sentence:\n",
            "Original:\n"
          ]
        },
        {
          "data": {
            "text/html": [
              "<span class=\"tex2jax_ignore\"><div class=\"entities\" style=\"line-height: 2.5; direction: ltr\">I have a \n",
              "<mark class=\"entity\" style=\"background: #ddd; padding: 0.45em 0.6em; margin: 0 0.25em; line-height: 1; border-radius: 0.35em;\">\n",
              "    Rocky\n",
              "    <span style=\"font-size: 0.8em; font-weight: bold; line-height: 1; border-radius: 0.35em; vertical-align: middle; margin-left: 0.5rem\">B-ANIMAL</span>\n",
              "</mark>\n",
              " \n",
              "<mark class=\"entity\" style=\"background: #ddd; padding: 0.45em 0.6em; margin: 0 0.25em; line-height: 1; border-radius: 0.35em;\">\n",
              "    Mountain\n",
              "    <span style=\"font-size: 0.8em; font-weight: bold; line-height: 1; border-radius: 0.35em; vertical-align: middle; margin-left: 0.5rem\">I-ANIMAL</span>\n",
              "</mark>\n",
              " \n",
              "<mark class=\"entity\" style=\"background: #ddd; padding: 0.45em 0.6em; margin: 0 0.25em; line-height: 1; border-radius: 0.35em;\">\n",
              "    Horse\n",
              "    <span style=\"font-size: 0.8em; font-weight: bold; line-height: 1; border-radius: 0.35em; vertical-align: middle; margin-left: 0.5rem\">I-ANIMAL</span>\n",
              "</mark>\n",
              " . </div></span>"
            ],
            "text/plain": [
              "<IPython.core.display.HTML object>"
            ]
          },
          "metadata": {},
          "output_type": "display_data"
        },
        {
          "name": "stdout",
          "output_type": "stream",
          "text": [
            "Predicted:\n"
          ]
        },
        {
          "data": {
            "text/html": [
              "<span class=\"tex2jax_ignore\"><div class=\"entities\" style=\"line-height: 2.5; direction: ltr\">I have a \n",
              "<mark class=\"entity\" style=\"background: #ddd; padding: 0.45em 0.6em; margin: 0 0.25em; line-height: 1; border-radius: 0.35em;\">\n",
              "    Rocky\n",
              "    <span style=\"font-size: 0.8em; font-weight: bold; line-height: 1; border-radius: 0.35em; vertical-align: middle; margin-left: 0.5rem\">B-ANIMAL</span>\n",
              "</mark>\n",
              " Mountain \n",
              "<mark class=\"entity\" style=\"background: #ddd; padding: 0.45em 0.6em; margin: 0 0.25em; line-height: 1; border-radius: 0.35em;\">\n",
              "    Horse\n",
              "    <span style=\"font-size: 0.8em; font-weight: bold; line-height: 1; border-radius: 0.35em; vertical-align: middle; margin-left: 0.5rem\">I-ANIMAL</span>\n",
              "</mark>\n",
              " . </div></span>"
            ],
            "text/plain": [
              "<IPython.core.display.HTML object>"
            ]
          },
          "metadata": {},
          "output_type": "display_data"
        },
        {
          "name": "stdout",
          "output_type": "stream",
          "text": [
            "Problematic Sentence:\n",
            "Original:\n"
          ]
        },
        {
          "data": {
            "text/html": [
              "<span class=\"tex2jax_ignore\"><div class=\"entities\" style=\"line-height: 2.5; direction: ltr\">My favorite ride is a retired Argentine Thoroughbred \n",
              "<mark class=\"entity\" style=\"background: #ddd; padding: 0.45em 0.6em; margin: 0 0.25em; line-height: 1; border-radius: 0.35em;\">\n",
              "    polo\n",
              "    <span style=\"font-size: 0.8em; font-weight: bold; line-height: 1; border-radius: 0.35em; vertical-align: middle; margin-left: 0.5rem\">B-ANIMAL</span>\n",
              "</mark>\n",
              " \n",
              "<mark class=\"entity\" style=\"background: #ddd; padding: 0.45em 0.6em; margin: 0 0.25em; line-height: 1; border-radius: 0.35em;\">\n",
              "    pony\n",
              "    <span style=\"font-size: 0.8em; font-weight: bold; line-height: 1; border-radius: 0.35em; vertical-align: middle; margin-left: 0.5rem\">I-ANIMAL</span>\n",
              "</mark>\n",
              " . </div></span>"
            ],
            "text/plain": [
              "<IPython.core.display.HTML object>"
            ]
          },
          "metadata": {},
          "output_type": "display_data"
        },
        {
          "name": "stdout",
          "output_type": "stream",
          "text": [
            "Predicted:\n"
          ]
        },
        {
          "data": {
            "text/html": [
              "<span class=\"tex2jax_ignore\"><div class=\"entities\" style=\"line-height: 2.5; direction: ltr\">My favorite ride is a retired Argentine Thoroughbred polo \n",
              "<mark class=\"entity\" style=\"background: #ddd; padding: 0.45em 0.6em; margin: 0 0.25em; line-height: 1; border-radius: 0.35em;\">\n",
              "    pony\n",
              "    <span style=\"font-size: 0.8em; font-weight: bold; line-height: 1; border-radius: 0.35em; vertical-align: middle; margin-left: 0.5rem\">I-ANIMAL</span>\n",
              "</mark>\n",
              " . </div></span>"
            ],
            "text/plain": [
              "<IPython.core.display.HTML object>"
            ]
          },
          "metadata": {},
          "output_type": "display_data"
        },
        {
          "name": "stdout",
          "output_type": "stream",
          "text": [
            "Problematic Sentence:\n",
            "Original:\n"
          ]
        },
        {
          "data": {
            "text/html": [
              "<span class=\"tex2jax_ignore\"><div class=\"entities\" style=\"line-height: 2.5; direction: ltr\">Tall ones , small ones , bratty \n",
              "<mark class=\"entity\" style=\"background: #ddd; padding: 0.45em 0.6em; margin: 0 0.25em; line-height: 1; border-radius: 0.35em;\">\n",
              "    ponies\n",
              "    <span style=\"font-size: 0.8em; font-weight: bold; line-height: 1; border-radius: 0.35em; vertical-align: middle; margin-left: 0.5rem\">B-ANIMAL</span>\n",
              "</mark>\n",
              " , draft crosses , piebalds and tobianos and wall - eyed ones . </div></span>"
            ],
            "text/plain": [
              "<IPython.core.display.HTML object>"
            ]
          },
          "metadata": {},
          "output_type": "display_data"
        },
        {
          "name": "stdout",
          "output_type": "stream",
          "text": [
            "Predicted:\n"
          ]
        },
        {
          "data": {
            "text/html": [
              "<span class=\"tex2jax_ignore\"><div class=\"entities\" style=\"line-height: 2.5; direction: ltr\">Tall ones , small ones , bratty ponies , draft crosses , piebalds and tobianos and wall - eyed ones . </div></span>"
            ],
            "text/plain": [
              "<IPython.core.display.HTML object>"
            ]
          },
          "metadata": {},
          "output_type": "display_data"
        },
        {
          "name": "stdout",
          "output_type": "stream",
          "text": [
            "Problematic Sentence:\n",
            "Original:\n"
          ]
        },
        {
          "data": {
            "text/html": [
              "<span class=\"tex2jax_ignore\"><div class=\"entities\" style=\"line-height: 2.5; direction: ltr\">\n",
              "<mark class=\"entity\" style=\"background: #ddd; padding: 0.45em 0.6em; margin: 0 0.25em; line-height: 1; border-radius: 0.35em;\">\n",
              "    Sand\n",
              "    <span style=\"font-size: 0.8em; font-weight: bold; line-height: 1; border-radius: 0.35em; vertical-align: middle; margin-left: 0.5rem\">B-ANIMAL</span>\n",
              "</mark>\n",
              " \n",
              "<mark class=\"entity\" style=\"background: #ddd; padding: 0.45em 0.6em; margin: 0 0.25em; line-height: 1; border-radius: 0.35em;\">\n",
              "    cats\n",
              "    <span style=\"font-size: 0.8em; font-weight: bold; line-height: 1; border-radius: 0.35em; vertical-align: middle; margin-left: 0.5rem\">I-ANIMAL</span>\n",
              "</mark>\n",
              " are another absolute W \n",
              "<mark class=\"entity\" style=\"background: #ddd; padding: 0.45em 0.6em; margin: 0 0.25em; line-height: 1; border-radius: 0.35em;\">\n",
              "    cat\n",
              "    <span style=\"font-size: 0.8em; font-weight: bold; line-height: 1; border-radius: 0.35em; vertical-align: middle; margin-left: 0.5rem\">B-ANIMAL</span>\n",
              "</mark>\n",
              " . </div></span>"
            ],
            "text/plain": [
              "<IPython.core.display.HTML object>"
            ]
          },
          "metadata": {},
          "output_type": "display_data"
        },
        {
          "name": "stdout",
          "output_type": "stream",
          "text": [
            "Predicted:\n"
          ]
        },
        {
          "data": {
            "text/html": [
              "<span class=\"tex2jax_ignore\"><div class=\"entities\" style=\"line-height: 2.5; direction: ltr\">\n",
              "<mark class=\"entity\" style=\"background: #ddd; padding: 0.45em 0.6em; margin: 0 0.25em; line-height: 1; border-radius: 0.35em;\">\n",
              "    Sand\n",
              "    <span style=\"font-size: 0.8em; font-weight: bold; line-height: 1; border-radius: 0.35em; vertical-align: middle; margin-left: 0.5rem\">B-ANIMAL</span>\n",
              "</mark>\n",
              " \n",
              "<mark class=\"entity\" style=\"background: #ddd; padding: 0.45em 0.6em; margin: 0 0.25em; line-height: 1; border-radius: 0.35em;\">\n",
              "    cats\n",
              "    <span style=\"font-size: 0.8em; font-weight: bold; line-height: 1; border-radius: 0.35em; vertical-align: middle; margin-left: 0.5rem\">I-ANIMAL</span>\n",
              "</mark>\n",
              " are another absolute W cat . </div></span>"
            ],
            "text/plain": [
              "<IPython.core.display.HTML object>"
            ]
          },
          "metadata": {},
          "output_type": "display_data"
        },
        {
          "name": "stdout",
          "output_type": "stream",
          "text": [
            "Classification Report:\n",
            "              precision    recall  f1-score   support\n",
            "\n",
            "           O       0.98      1.00      0.99       911\n",
            "    B-ANIMAL       1.00      0.83      0.91        71\n",
            "    I-ANIMAL       1.00      0.78      0.88        27\n",
            "\n",
            "    accuracy                           0.98      1009\n",
            "   macro avg       0.99      0.87      0.92      1009\n",
            "weighted avg       0.98      0.98      0.98      1009\n",
            "\n"
          ]
        }
      ],
      "source": [
        "from sklearn.metrics import classification_report\n",
        "import spacy\n",
        "from spacy.tokens import Doc, Span\n",
        "from spacy import displacy\n",
        "\n",
        "nlp = spacy.blank(\"en\")\n",
        "\n",
        "def create_spacy_doc(tokens, labels, label_map):\n",
        "    \"\"\"\n",
        "    Create a SpaCy Doc object with labeled entities for visualization.\n",
        "\n",
        "    Args:\n",
        "    tokens (list): List of tokens.\n",
        "    labels (list): List of corresponding labels.\n",
        "    label_map (dict): Mapping from label IDs to label names.\n",
        "\n",
        "    Returns:\n",
        "    Doc: A SpaCy Doc object with labeled entities.\n",
        "    \"\"\"\n",
        "    doc = Doc(nlp.vocab, words=tokens)\n",
        "    entities = []\n",
        "    for i, label in enumerate(labels):\n",
        "        if label > 0:  # Assuming 0 is 'O' or non-entity\n",
        "            entities.append(Span(doc, i, i + 1, label=label_map[label]))\n",
        "    doc.ents = entities\n",
        "    return doc\n",
        "\n",
        "\n",
        "\n",
        "def compute_metrics_and_visualize(formatted_test_samples, model, tokenizer, device, label_map):\n",
        "    \"\"\"\n",
        "    Compute metrics and visualize problematic sentences.\n",
        "\n",
        "    Args:\n",
        "    formatted_test_samples (list): List of tuples containing tokens, labels, and sentences.\n",
        "    model (torch.nn.Module): The fine-tuned NER model.\n",
        "    tokenizer (transformers.PreTrainedTokenizer): The tokenizer used to tokenize the input.\n",
        "    device (torch.device): The device (CPU or GPU) on which to run the model.\n",
        "    label_map (dict): Mapping from label IDs to label names.\n",
        "    \"\"\"\n",
        "    y_true, y_pred = [], []\n",
        "\n",
        "    for tokens, labels, sentence in formatted_test_samples:\n",
        "        # Predict labels for the sentence\n",
        "        pred_tokens, pred_labels = predict_ner_labels(sentence, model, tokenizer, device, False)\n",
        "        tokens, labels = post_process_tokens_and_labels(tokens, labels)\n",
        "\n",
        "        # Adjust labels for equivalence rules\n",
        "        adjusted_preds = [\n",
        "            true if label == true else 0\n",
        "            for label, true in zip(pred_labels, labels)\n",
        "        ]\n",
        "\n",
        "        y_true.extend(labels)\n",
        "        y_pred.extend(adjusted_preds)\n",
        "\n",
        "        # Check for problematic sentences\n",
        "        if labels != adjusted_preds:\n",
        "            print(\"Problematic Sentence:\")\n",
        "            print(\"Original:\")\n",
        "            displacy.render(create_spacy_doc(tokens, labels, label_map), style=\"ent\", jupyter=True)\n",
        "            print(\"Predicted:\")\n",
        "            displacy.render(create_spacy_doc(pred_tokens, adjusted_preds, label_map), style=\"ent\", jupyter=True)\n",
        "\n",
        "    # Compute metrics\n",
        "    print(\"Classification Report:\")\n",
        "    print(classification_report(y_true, y_pred, target_names=list(label_map.values())))\n",
        "\n",
        "\n",
        "compute_metrics_and_visualize(formatted_test_samples, model.to(device), tokenizer, device, id2label)\n"
      ]
    },
    {
      "cell_type": "markdown",
      "metadata": {},
      "source": [
        "i know it seems like it's to much not readable resulting visualized sentences but."
      ]
    },
    {
      "cell_type": "markdown",
      "metadata": {
        "id": "sJuzUJ5L1mHU"
      },
      "source": [
        "the fact that model doesn't catch some specific niche names for animal breed is actually less disturbung that some grouped samples with False Negatives that lower recall (don't catch world dog cat etc. when there's some already animal breed detected in sentence), this problem occurs specifically because of errors that Llama produces - doesn't higlight some non-main passed animal name in sentence it generates (my suspicion)\n",
        "work on prompts, temperature etc. can help."
      ]
    },
    {
      "cell_type": "markdown",
      "metadata": {},
      "source": [
        "the fact that model catches breeds of animals can be used to do search (by creating index on that column) over some database of species to map what animal this is like \"cane corso\" -> dog and then do check with cv classifier"
      ]
    }
  ],
  "metadata": {
    "accelerator": "GPU",
    "colab": {
      "gpuType": "T4",
      "provenance": []
    },
    "kernelspec": {
      "display_name": "Python 3",
      "name": "python3"
    },
    "language_info": {
      "name": "python"
    }
  },
  "nbformat": 4,
  "nbformat_minor": 0
}
