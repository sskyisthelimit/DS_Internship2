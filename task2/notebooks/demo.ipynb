{
 "cells": [
  {
   "cell_type": "code",
   "execution_count": null,
   "metadata": {
    "_cell_guid": "b1076dfc-b9ad-4769-8c92-a6c4dae69d19",
    "_uuid": "8f2839f25d086af736a60e9eeb907d3b93b6e0e5",
    "execution": {
     "iopub.execute_input": "2025-02-23T09:52:08.192083Z",
     "iopub.status.busy": "2025-02-23T09:52:08.191773Z",
     "iopub.status.idle": "2025-02-23T09:52:08.588366Z",
     "shell.execute_reply": "2025-02-23T09:52:08.587493Z",
     "shell.execute_reply.started": "2025-02-23T09:52:08.192056Z"
    },
    "trusted": true
   },
   "outputs": [],
   "source": [
    "from huggingface_hub import notebook_login\n",
    "notebook_login()"
   ]
  },
  {
   "cell_type": "code",
   "execution_count": null,
   "metadata": {
    "execution": {
     "iopub.execute_input": "2025-02-23T09:52:21.087731Z",
     "iopub.status.busy": "2025-02-23T09:52:21.087357Z",
     "iopub.status.idle": "2025-02-23T09:52:21.130399Z",
     "shell.execute_reply": "2025-02-23T09:52:21.129729Z",
     "shell.execute_reply.started": "2025-02-23T09:52:21.087700Z"
    },
    "trusted": true
   },
   "outputs": [
    {
     "name": "stdout",
     "output_type": "stream",
     "text": [
      "Logged in as: sskyisthelimit\n"
     ]
    }
   ],
   "source": [
    "from huggingface_hub import HfApi\n",
    "\n",
    "api = HfApi()\n",
    "user = api.whoami()\n",
    "print(\"Logged in as:\", user[\"name\"])"
   ]
  },
  {
   "cell_type": "code",
   "execution_count": null,
   "metadata": {
    "execution": {
     "iopub.execute_input": "2025-02-23T09:52:21.320529Z",
     "iopub.status.busy": "2025-02-23T09:52:21.320262Z",
     "iopub.status.idle": "2025-02-23T09:52:27.309141Z",
     "shell.execute_reply": "2025-02-23T09:52:27.308282Z",
     "shell.execute_reply.started": "2025-02-23T09:52:21.320508Z"
    },
    "trusted": true
   },
   "outputs": [],
   "source": [
    "!git clone https://github.com/sskyisthelimit/DS_Internship2.git\n",
    "%cd DS_Internship2/task2/src/"
   ]
  },
  {
   "cell_type": "code",
   "execution_count": 4,
   "metadata": {
    "execution": {
     "iopub.execute_input": "2025-02-23T09:52:27.310535Z",
     "iopub.status.busy": "2025-02-23T09:52:27.310234Z",
     "iopub.status.idle": "2025-02-23T09:52:27.621159Z",
     "shell.execute_reply": "2025-02-23T09:52:27.620330Z",
     "shell.execute_reply.started": "2025-02-23T09:52:27.310511Z"
    },
    "trusted": true
   },
   "outputs": [
    {
     "data": {
      "text/html": [
       "<div>\n",
       "<style scoped>\n",
       "    .dataframe tbody tr th:only-of-type {\n",
       "        vertical-align: middle;\n",
       "    }\n",
       "\n",
       "    .dataframe tbody tr th {\n",
       "        vertical-align: top;\n",
       "    }\n",
       "\n",
       "    .dataframe thead th {\n",
       "        text-align: right;\n",
       "    }\n",
       "</style>\n",
       "<table border=\"1\" class=\"dataframe\">\n",
       "  <thead>\n",
       "    <tr style=\"text-align: right;\">\n",
       "      <th></th>\n",
       "      <th>Filepath</th>\n",
       "      <th>Label</th>\n",
       "      <th>Label_idx</th>\n",
       "    </tr>\n",
       "  </thead>\n",
       "  <tbody>\n",
       "    <tr>\n",
       "      <th>0</th>\n",
       "      <td>/kaggle/input/animals10/raw-img/ragno/OIP-9r0O...</td>\n",
       "      <td>spider</td>\n",
       "      <td>8</td>\n",
       "    </tr>\n",
       "    <tr>\n",
       "      <th>1</th>\n",
       "      <td>/kaggle/input/animals10/raw-img/cane/OIP-9_Uo_...</td>\n",
       "      <td>dog</td>\n",
       "      <td>0</td>\n",
       "    </tr>\n",
       "    <tr>\n",
       "      <th>2</th>\n",
       "      <td>/kaggle/input/animals10/raw-img/gallina/OIP-8y...</td>\n",
       "      <td>chicken</td>\n",
       "      <td>4</td>\n",
       "    </tr>\n",
       "    <tr>\n",
       "      <th>3</th>\n",
       "      <td>/kaggle/input/animals10/raw-img/farfalla/ea37b...</td>\n",
       "      <td>butterfly</td>\n",
       "      <td>3</td>\n",
       "    </tr>\n",
       "    <tr>\n",
       "      <th>4</th>\n",
       "      <td>/kaggle/input/animals10/raw-img/cane/OIP-pTVqa...</td>\n",
       "      <td>dog</td>\n",
       "      <td>0</td>\n",
       "    </tr>\n",
       "  </tbody>\n",
       "</table>\n",
       "</div>"
      ],
      "text/plain": [
       "                                            Filepath      Label  Label_idx\n",
       "0  /kaggle/input/animals10/raw-img/ragno/OIP-9r0O...     spider          8\n",
       "1  /kaggle/input/animals10/raw-img/cane/OIP-9_Uo_...        dog          0\n",
       "2  /kaggle/input/animals10/raw-img/gallina/OIP-8y...    chicken          4\n",
       "3  /kaggle/input/animals10/raw-img/farfalla/ea37b...  butterfly          3\n",
       "4  /kaggle/input/animals10/raw-img/cane/OIP-pTVqa...        dog          0"
      ]
     },
     "execution_count": 4,
     "metadata": {},
     "output_type": "execute_result"
    }
   ],
   "source": [
    "import pandas\n",
    "df = pandas.read_csv(\"/kaggle/working/DS_Internship2/task2/dataset/cv/test_set_filepaths.csv\")\n",
    "df.head()"
   ]
  },
  {
   "cell_type": "code",
   "execution_count": 5,
   "metadata": {
    "execution": {
     "iopub.execute_input": "2025-02-23T09:52:27.623238Z",
     "iopub.status.busy": "2025-02-23T09:52:27.623003Z",
     "iopub.status.idle": "2025-02-23T09:52:27.628094Z",
     "shell.execute_reply": "2025-02-23T09:52:27.627195Z",
     "shell.execute_reply.started": "2025-02-23T09:52:27.623219Z"
    },
    "trusted": true
   },
   "outputs": [
    {
     "name": "stdout",
     "output_type": "stream",
     "text": [
      "/kaggle/input/animals10/raw-img/ragno/OIP-9r0OBTmofQqIeea3UJq6SQHaFh.jpeg\n"
     ]
    }
   ],
   "source": [
    "samples = df.loc[:5]\n",
    "samples.head()\n",
    "print(samples.loc[0][\"Filepath\"])"
   ]
  },
  {
   "cell_type": "code",
   "execution_count": 6,
   "metadata": {
    "execution": {
     "iopub.execute_input": "2025-02-23T09:52:27.629348Z",
     "iopub.status.busy": "2025-02-23T09:52:27.629062Z",
     "iopub.status.idle": "2025-02-23T09:53:05.470060Z",
     "shell.execute_reply": "2025-02-23T09:53:05.469039Z",
     "shell.execute_reply.started": "2025-02-23T09:52:27.629316Z"
    },
    "trusted": true
   },
   "outputs": [
    {
     "name": "stdout",
     "output_type": "stream",
     "text": [
      "tokenizer_config.json: 100%|███████████████| 1.19k/1.19k [00:00<00:00, 6.34MB/s]\n",
      "vocab.txt: 100%|█████████████████████████████| 213k/213k [00:00<00:00, 6.02MB/s]\n",
      "tokenizer.json: 100%|████████████████████████| 669k/669k [00:00<00:00, 14.5MB/s]\n",
      "special_tokens_map.json: 100%|██████████████████| 125/125 [00:00<00:00, 672kB/s]\n",
      "config.json: 100%|█████████████████████████████| 819/819 [00:00<00:00, 6.71MB/s]\n",
      "2025-02-23 09:52:38.293593: E external/local_xla/xla/stream_executor/cuda/cuda_fft.cc:485] Unable to register cuFFT factory: Attempting to register factory for plugin cuFFT when one has already been registered\n",
      "2025-02-23 09:52:38.470497: E external/local_xla/xla/stream_executor/cuda/cuda_dnn.cc:8454] Unable to register cuDNN factory: Attempting to register factory for plugin cuDNN when one has already been registered\n",
      "2025-02-23 09:52:38.522976: E external/local_xla/xla/stream_executor/cuda/cuda_blas.cc:1452] Unable to register cuBLAS factory: Attempting to register factory for plugin cuBLAS when one has already been registered\n",
      "model.safetensors: 100%|█████████████████████| 431M/431M [00:10<00:00, 42.9MB/s]\n",
      "Downloading: \"https://download.pytorch.org/models/efficientnet_v2_m-dc08266a.pth\" to /root/.cache/torch/hub/checkpoints/efficientnet_v2_m-dc08266a.pth\n",
      "100%|█████████████████████████████████████████| 208M/208M [00:01<00:00, 188MB/s]\n",
      "True predicted name of animal: spider\n"
     ]
    }
   ],
   "source": [
    "!python3 -m inference --image_path \"/kaggle/input/animals10/raw-img/ragno/OIP-9r0OBTmofQqIeea3UJq6SQHaFh.jpeg\" --sentence \"My buggy Jake has a pet spider.\" --device \"cuda:0\""
   ]
  },
  {
   "cell_type": "code",
   "execution_count": 7,
   "metadata": {
    "execution": {
     "iopub.execute_input": "2025-02-23T09:53:05.472391Z",
     "iopub.status.busy": "2025-02-23T09:53:05.472069Z",
     "iopub.status.idle": "2025-02-23T09:53:17.051549Z",
     "shell.execute_reply": "2025-02-23T09:53:17.050707Z",
     "shell.execute_reply.started": "2025-02-23T09:53:05.472366Z"
    },
    "trusted": true
   },
   "outputs": [
    {
     "name": "stdout",
     "output_type": "stream",
     "text": [
      "2025-02-23 09:53:10.145520: E external/local_xla/xla/stream_executor/cuda/cuda_fft.cc:485] Unable to register cuFFT factory: Attempting to register factory for plugin cuFFT when one has already been registered\n",
      "2025-02-23 09:53:10.167060: E external/local_xla/xla/stream_executor/cuda/cuda_dnn.cc:8454] Unable to register cuDNN factory: Attempting to register factory for plugin cuDNN when one has already been registered\n",
      "2025-02-23 09:53:10.173556: E external/local_xla/xla/stream_executor/cuda/cuda_blas.cc:1452] Unable to register cuBLAS factory: Attempting to register factory for plugin cuBLAS when one has already been registered\n",
      "False predicted name of animal: spider\n"
     ]
    }
   ],
   "source": [
    "!CUDA_LAUNCH_BLOCKING=1 python3 -m inference --image_path \"/kaggle/input/animals10/raw-img/ragno/OIP-9r0OBTmofQqIeea3UJq6SQHaFh.jpeg\" --sentence \"Is there a cat pictured on the image?.\" --device \"cuda:0\""
   ]
  },
  {
   "cell_type": "markdown",
   "metadata": {},
   "source": [
    "boolean values that you see - indicate is the predicted by cv model animal is in positive animal words (joined positive tokens) list from sentence.\n",
    " predicted name of animal: is result of cv model prediction"
   ]
  },
  {
   "cell_type": "code",
   "execution_count": null,
   "metadata": {
    "trusted": true
   },
   "outputs": [],
   "source": []
  }
 ],
 "metadata": {
  "kaggle": {
   "accelerator": "gpu",
   "dataSources": [
    {
     "datasetId": 59760,
     "sourceId": 840806,
     "sourceType": "datasetVersion"
    }
   ],
   "dockerImageVersionId": 30919,
   "isGpuEnabled": true,
   "isInternetEnabled": true,
   "language": "python",
   "sourceType": "notebook"
  },
  "kernelspec": {
   "display_name": "Python 3",
   "language": "python",
   "name": "python3"
  },
  "language_info": {
   "codemirror_mode": {
    "name": "ipython",
    "version": 3
   },
   "file_extension": ".py",
   "mimetype": "text/x-python",
   "name": "python",
   "nbconvert_exporter": "python",
   "pygments_lexer": "ipython3",
   "version": "3.10.12"
  }
 },
 "nbformat": 4,
 "nbformat_minor": 4
}
